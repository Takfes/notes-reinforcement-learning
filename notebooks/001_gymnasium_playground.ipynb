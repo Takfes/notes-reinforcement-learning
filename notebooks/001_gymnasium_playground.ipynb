{
  "nbformat": 4,
  "nbformat_minor": 0,
  "metadata": {
    "colab": {
      "provenance": [],
      "gpuType": "T4",
      "include_colab_link": true
    },
    "kernelspec": {
      "name": "python3",
      "display_name": "Python 3"
    },
    "accelerator": "GPU"
  },
  "cells": [
    {
      "cell_type": "markdown",
      "metadata": {
        "id": "view-in-github",
        "colab_type": "text"
      },
      "source": [
        "<a href=\"https://colab.research.google.com/github/Takfes/notes-reinforcement-learning/blob/main/notebooks/001_gymnasium_playground.ipynb\" target=\"_parent\"><img src=\"https://colab.research.google.com/assets/colab-badge.svg\" alt=\"Open In Colab\"/></a>"
      ]
    },
    {
      "cell_type": "code",
      "source": [
        "%%bash\n",
        "sudo apt-get update\n",
        "apt install swig cmake\n",
        "pip install -r https://raw.githubusercontent.com/huggingface/deep-rl-class/main/notebooks/unit1/requirements-unit1.txt"
      ],
      "metadata": {
        "colab": {
          "base_uri": "https://localhost:8080/"
        },
        "collapsed": true,
        "id": "mtjMpI4xwgTI",
        "outputId": "fa817eae-6066-44ed-8209-a514c44e34be"
      },
      "execution_count": 1,
      "outputs": [
        {
          "output_type": "stream",
          "name": "stdout",
          "text": [
            "Hit:1 https://cloud.r-project.org/bin/linux/ubuntu jammy-cran40/ InRelease\n",
            "Hit:2 https://developer.download.nvidia.com/compute/cuda/repos/ubuntu2204/x86_64  InRelease\n",
            "Hit:3 http://security.ubuntu.com/ubuntu jammy-security InRelease\n",
            "Hit:4 http://archive.ubuntu.com/ubuntu jammy InRelease\n",
            "Hit:5 http://archive.ubuntu.com/ubuntu jammy-updates InRelease\n",
            "Hit:6 http://archive.ubuntu.com/ubuntu jammy-backports InRelease\n",
            "Hit:7 https://ppa.launchpadcontent.net/c2d4u.team/c2d4u4.0+/ubuntu jammy InRelease\n",
            "Hit:8 https://ppa.launchpadcontent.net/deadsnakes/ppa/ubuntu jammy InRelease\n",
            "Hit:9 https://ppa.launchpadcontent.net/graphics-drivers/ppa/ubuntu jammy InRelease\n",
            "Hit:10 https://ppa.launchpadcontent.net/ubuntugis/ppa/ubuntu jammy InRelease\n",
            "Reading package lists...\n",
            "Reading package lists...\n",
            "Building dependency tree...\n",
            "Reading state information...\n",
            "swig is already the newest version (4.0.2-1ubuntu1).\n",
            "cmake is already the newest version (3.22.1-1ubuntu1.22.04.2).\n",
            "0 upgraded, 0 newly installed, 0 to remove and 45 not upgraded.\n",
            "Requirement already satisfied: stable-baselines3==2.0.0a5 in /usr/local/lib/python3.10/dist-packages (from -r https://raw.githubusercontent.com/huggingface/deep-rl-class/main/notebooks/unit1/requirements-unit1.txt (line 1)) (2.0.0a5)\n",
            "Requirement already satisfied: swig in /usr/local/lib/python3.10/dist-packages (from -r https://raw.githubusercontent.com/huggingface/deep-rl-class/main/notebooks/unit1/requirements-unit1.txt (line 2)) (4.2.1)\n",
            "Requirement already satisfied: gymnasium[box2d] in /usr/local/lib/python3.10/dist-packages (from -r https://raw.githubusercontent.com/huggingface/deep-rl-class/main/notebooks/unit1/requirements-unit1.txt (line 3)) (0.28.1)\n",
            "Requirement already satisfied: huggingface_sb3 in /usr/local/lib/python3.10/dist-packages (from -r https://raw.githubusercontent.com/huggingface/deep-rl-class/main/notebooks/unit1/requirements-unit1.txt (line 4)) (3.0)\n",
            "Requirement already satisfied: numpy in /usr/local/lib/python3.10/dist-packages (from stable-baselines3==2.0.0a5->-r https://raw.githubusercontent.com/huggingface/deep-rl-class/main/notebooks/unit1/requirements-unit1.txt (line 1)) (1.25.2)\n",
            "Requirement already satisfied: torch>=1.11 in /usr/local/lib/python3.10/dist-packages (from stable-baselines3==2.0.0a5->-r https://raw.githubusercontent.com/huggingface/deep-rl-class/main/notebooks/unit1/requirements-unit1.txt (line 1)) (2.3.0+cu121)\n",
            "Requirement already satisfied: cloudpickle in /usr/local/lib/python3.10/dist-packages (from stable-baselines3==2.0.0a5->-r https://raw.githubusercontent.com/huggingface/deep-rl-class/main/notebooks/unit1/requirements-unit1.txt (line 1)) (2.2.1)\n",
            "Requirement already satisfied: pandas in /usr/local/lib/python3.10/dist-packages (from stable-baselines3==2.0.0a5->-r https://raw.githubusercontent.com/huggingface/deep-rl-class/main/notebooks/unit1/requirements-unit1.txt (line 1)) (2.0.3)\n",
            "Requirement already satisfied: matplotlib in /usr/local/lib/python3.10/dist-packages (from stable-baselines3==2.0.0a5->-r https://raw.githubusercontent.com/huggingface/deep-rl-class/main/notebooks/unit1/requirements-unit1.txt (line 1)) (3.7.1)\n",
            "Requirement already satisfied: jax-jumpy>=1.0.0 in /usr/local/lib/python3.10/dist-packages (from gymnasium[box2d]->-r https://raw.githubusercontent.com/huggingface/deep-rl-class/main/notebooks/unit1/requirements-unit1.txt (line 3)) (1.0.0)\n",
            "Requirement already satisfied: typing-extensions>=4.3.0 in /usr/local/lib/python3.10/dist-packages (from gymnasium[box2d]->-r https://raw.githubusercontent.com/huggingface/deep-rl-class/main/notebooks/unit1/requirements-unit1.txt (line 3)) (4.12.2)\n",
            "Requirement already satisfied: farama-notifications>=0.0.1 in /usr/local/lib/python3.10/dist-packages (from gymnasium[box2d]->-r https://raw.githubusercontent.com/huggingface/deep-rl-class/main/notebooks/unit1/requirements-unit1.txt (line 3)) (0.0.4)\n",
            "Requirement already satisfied: box2d-py==2.3.5 in /usr/local/lib/python3.10/dist-packages (from gymnasium[box2d]->-r https://raw.githubusercontent.com/huggingface/deep-rl-class/main/notebooks/unit1/requirements-unit1.txt (line 3)) (2.3.5)\n",
            "Requirement already satisfied: pygame==2.1.3 in /usr/local/lib/python3.10/dist-packages (from gymnasium[box2d]->-r https://raw.githubusercontent.com/huggingface/deep-rl-class/main/notebooks/unit1/requirements-unit1.txt (line 3)) (2.1.3)\n",
            "Requirement already satisfied: huggingface-hub~=0.8 in /usr/local/lib/python3.10/dist-packages (from huggingface_sb3->-r https://raw.githubusercontent.com/huggingface/deep-rl-class/main/notebooks/unit1/requirements-unit1.txt (line 4)) (0.23.4)\n",
            "Requirement already satisfied: pyyaml~=6.0 in /usr/local/lib/python3.10/dist-packages (from huggingface_sb3->-r https://raw.githubusercontent.com/huggingface/deep-rl-class/main/notebooks/unit1/requirements-unit1.txt (line 4)) (6.0.1)\n",
            "Requirement already satisfied: wasabi in /usr/local/lib/python3.10/dist-packages (from huggingface_sb3->-r https://raw.githubusercontent.com/huggingface/deep-rl-class/main/notebooks/unit1/requirements-unit1.txt (line 4)) (1.1.3)\n",
            "Requirement already satisfied: filelock in /usr/local/lib/python3.10/dist-packages (from huggingface-hub~=0.8->huggingface_sb3->-r https://raw.githubusercontent.com/huggingface/deep-rl-class/main/notebooks/unit1/requirements-unit1.txt (line 4)) (3.15.3)\n",
            "Requirement already satisfied: fsspec>=2023.5.0 in /usr/local/lib/python3.10/dist-packages (from huggingface-hub~=0.8->huggingface_sb3->-r https://raw.githubusercontent.com/huggingface/deep-rl-class/main/notebooks/unit1/requirements-unit1.txt (line 4)) (2023.6.0)\n",
            "Requirement already satisfied: packaging>=20.9 in /usr/local/lib/python3.10/dist-packages (from huggingface-hub~=0.8->huggingface_sb3->-r https://raw.githubusercontent.com/huggingface/deep-rl-class/main/notebooks/unit1/requirements-unit1.txt (line 4)) (24.1)\n",
            "Requirement already satisfied: requests in /usr/local/lib/python3.10/dist-packages (from huggingface-hub~=0.8->huggingface_sb3->-r https://raw.githubusercontent.com/huggingface/deep-rl-class/main/notebooks/unit1/requirements-unit1.txt (line 4)) (2.31.0)\n",
            "Requirement already satisfied: tqdm>=4.42.1 in /usr/local/lib/python3.10/dist-packages (from huggingface-hub~=0.8->huggingface_sb3->-r https://raw.githubusercontent.com/huggingface/deep-rl-class/main/notebooks/unit1/requirements-unit1.txt (line 4)) (4.66.4)\n",
            "Requirement already satisfied: sympy in /usr/local/lib/python3.10/dist-packages (from torch>=1.11->stable-baselines3==2.0.0a5->-r https://raw.githubusercontent.com/huggingface/deep-rl-class/main/notebooks/unit1/requirements-unit1.txt (line 1)) (1.12.1)\n",
            "Requirement already satisfied: networkx in /usr/local/lib/python3.10/dist-packages (from torch>=1.11->stable-baselines3==2.0.0a5->-r https://raw.githubusercontent.com/huggingface/deep-rl-class/main/notebooks/unit1/requirements-unit1.txt (line 1)) (3.3)\n",
            "Requirement already satisfied: jinja2 in /usr/local/lib/python3.10/dist-packages (from torch>=1.11->stable-baselines3==2.0.0a5->-r https://raw.githubusercontent.com/huggingface/deep-rl-class/main/notebooks/unit1/requirements-unit1.txt (line 1)) (3.1.4)\n",
            "Requirement already satisfied: nvidia-cuda-nvrtc-cu12==12.1.105 in /usr/local/lib/python3.10/dist-packages (from torch>=1.11->stable-baselines3==2.0.0a5->-r https://raw.githubusercontent.com/huggingface/deep-rl-class/main/notebooks/unit1/requirements-unit1.txt (line 1)) (12.1.105)\n",
            "Requirement already satisfied: nvidia-cuda-runtime-cu12==12.1.105 in /usr/local/lib/python3.10/dist-packages (from torch>=1.11->stable-baselines3==2.0.0a5->-r https://raw.githubusercontent.com/huggingface/deep-rl-class/main/notebooks/unit1/requirements-unit1.txt (line 1)) (12.1.105)\n",
            "Requirement already satisfied: nvidia-cuda-cupti-cu12==12.1.105 in /usr/local/lib/python3.10/dist-packages (from torch>=1.11->stable-baselines3==2.0.0a5->-r https://raw.githubusercontent.com/huggingface/deep-rl-class/main/notebooks/unit1/requirements-unit1.txt (line 1)) (12.1.105)\n",
            "Requirement already satisfied: nvidia-cudnn-cu12==8.9.2.26 in /usr/local/lib/python3.10/dist-packages (from torch>=1.11->stable-baselines3==2.0.0a5->-r https://raw.githubusercontent.com/huggingface/deep-rl-class/main/notebooks/unit1/requirements-unit1.txt (line 1)) (8.9.2.26)\n",
            "Requirement already satisfied: nvidia-cublas-cu12==12.1.3.1 in /usr/local/lib/python3.10/dist-packages (from torch>=1.11->stable-baselines3==2.0.0a5->-r https://raw.githubusercontent.com/huggingface/deep-rl-class/main/notebooks/unit1/requirements-unit1.txt (line 1)) (12.1.3.1)\n",
            "Requirement already satisfied: nvidia-cufft-cu12==11.0.2.54 in /usr/local/lib/python3.10/dist-packages (from torch>=1.11->stable-baselines3==2.0.0a5->-r https://raw.githubusercontent.com/huggingface/deep-rl-class/main/notebooks/unit1/requirements-unit1.txt (line 1)) (11.0.2.54)\n",
            "Requirement already satisfied: nvidia-curand-cu12==10.3.2.106 in /usr/local/lib/python3.10/dist-packages (from torch>=1.11->stable-baselines3==2.0.0a5->-r https://raw.githubusercontent.com/huggingface/deep-rl-class/main/notebooks/unit1/requirements-unit1.txt (line 1)) (10.3.2.106)\n",
            "Requirement already satisfied: nvidia-cusolver-cu12==11.4.5.107 in /usr/local/lib/python3.10/dist-packages (from torch>=1.11->stable-baselines3==2.0.0a5->-r https://raw.githubusercontent.com/huggingface/deep-rl-class/main/notebooks/unit1/requirements-unit1.txt (line 1)) (11.4.5.107)\n",
            "Requirement already satisfied: nvidia-cusparse-cu12==12.1.0.106 in /usr/local/lib/python3.10/dist-packages (from torch>=1.11->stable-baselines3==2.0.0a5->-r https://raw.githubusercontent.com/huggingface/deep-rl-class/main/notebooks/unit1/requirements-unit1.txt (line 1)) (12.1.0.106)\n",
            "Requirement already satisfied: nvidia-nccl-cu12==2.20.5 in /usr/local/lib/python3.10/dist-packages (from torch>=1.11->stable-baselines3==2.0.0a5->-r https://raw.githubusercontent.com/huggingface/deep-rl-class/main/notebooks/unit1/requirements-unit1.txt (line 1)) (2.20.5)\n",
            "Requirement already satisfied: nvidia-nvtx-cu12==12.1.105 in /usr/local/lib/python3.10/dist-packages (from torch>=1.11->stable-baselines3==2.0.0a5->-r https://raw.githubusercontent.com/huggingface/deep-rl-class/main/notebooks/unit1/requirements-unit1.txt (line 1)) (12.1.105)\n",
            "Requirement already satisfied: triton==2.3.0 in /usr/local/lib/python3.10/dist-packages (from torch>=1.11->stable-baselines3==2.0.0a5->-r https://raw.githubusercontent.com/huggingface/deep-rl-class/main/notebooks/unit1/requirements-unit1.txt (line 1)) (2.3.0)\n",
            "Requirement already satisfied: nvidia-nvjitlink-cu12 in /usr/local/lib/python3.10/dist-packages (from nvidia-cusolver-cu12==11.4.5.107->torch>=1.11->stable-baselines3==2.0.0a5->-r https://raw.githubusercontent.com/huggingface/deep-rl-class/main/notebooks/unit1/requirements-unit1.txt (line 1)) (12.5.40)\n",
            "Requirement already satisfied: contourpy>=1.0.1 in /usr/local/lib/python3.10/dist-packages (from matplotlib->stable-baselines3==2.0.0a5->-r https://raw.githubusercontent.com/huggingface/deep-rl-class/main/notebooks/unit1/requirements-unit1.txt (line 1)) (1.2.1)\n",
            "Requirement already satisfied: cycler>=0.10 in /usr/local/lib/python3.10/dist-packages (from matplotlib->stable-baselines3==2.0.0a5->-r https://raw.githubusercontent.com/huggingface/deep-rl-class/main/notebooks/unit1/requirements-unit1.txt (line 1)) (0.12.1)\n",
            "Requirement already satisfied: fonttools>=4.22.0 in /usr/local/lib/python3.10/dist-packages (from matplotlib->stable-baselines3==2.0.0a5->-r https://raw.githubusercontent.com/huggingface/deep-rl-class/main/notebooks/unit1/requirements-unit1.txt (line 1)) (4.53.0)\n",
            "Requirement already satisfied: kiwisolver>=1.0.1 in /usr/local/lib/python3.10/dist-packages (from matplotlib->stable-baselines3==2.0.0a5->-r https://raw.githubusercontent.com/huggingface/deep-rl-class/main/notebooks/unit1/requirements-unit1.txt (line 1)) (1.4.5)\n",
            "Requirement already satisfied: pillow>=6.2.0 in /usr/local/lib/python3.10/dist-packages (from matplotlib->stable-baselines3==2.0.0a5->-r https://raw.githubusercontent.com/huggingface/deep-rl-class/main/notebooks/unit1/requirements-unit1.txt (line 1)) (9.4.0)\n",
            "Requirement already satisfied: pyparsing>=2.3.1 in /usr/local/lib/python3.10/dist-packages (from matplotlib->stable-baselines3==2.0.0a5->-r https://raw.githubusercontent.com/huggingface/deep-rl-class/main/notebooks/unit1/requirements-unit1.txt (line 1)) (3.1.2)\n",
            "Requirement already satisfied: python-dateutil>=2.7 in /usr/local/lib/python3.10/dist-packages (from matplotlib->stable-baselines3==2.0.0a5->-r https://raw.githubusercontent.com/huggingface/deep-rl-class/main/notebooks/unit1/requirements-unit1.txt (line 1)) (2.8.2)\n",
            "Requirement already satisfied: pytz>=2020.1 in /usr/local/lib/python3.10/dist-packages (from pandas->stable-baselines3==2.0.0a5->-r https://raw.githubusercontent.com/huggingface/deep-rl-class/main/notebooks/unit1/requirements-unit1.txt (line 1)) (2023.4)\n",
            "Requirement already satisfied: tzdata>=2022.1 in /usr/local/lib/python3.10/dist-packages (from pandas->stable-baselines3==2.0.0a5->-r https://raw.githubusercontent.com/huggingface/deep-rl-class/main/notebooks/unit1/requirements-unit1.txt (line 1)) (2024.1)\n",
            "Requirement already satisfied: six>=1.5 in /usr/local/lib/python3.10/dist-packages (from python-dateutil>=2.7->matplotlib->stable-baselines3==2.0.0a5->-r https://raw.githubusercontent.com/huggingface/deep-rl-class/main/notebooks/unit1/requirements-unit1.txt (line 1)) (1.16.0)\n",
            "Requirement already satisfied: MarkupSafe>=2.0 in /usr/local/lib/python3.10/dist-packages (from jinja2->torch>=1.11->stable-baselines3==2.0.0a5->-r https://raw.githubusercontent.com/huggingface/deep-rl-class/main/notebooks/unit1/requirements-unit1.txt (line 1)) (2.1.5)\n",
            "Requirement already satisfied: charset-normalizer<4,>=2 in /usr/local/lib/python3.10/dist-packages (from requests->huggingface-hub~=0.8->huggingface_sb3->-r https://raw.githubusercontent.com/huggingface/deep-rl-class/main/notebooks/unit1/requirements-unit1.txt (line 4)) (3.3.2)\n",
            "Requirement already satisfied: idna<4,>=2.5 in /usr/local/lib/python3.10/dist-packages (from requests->huggingface-hub~=0.8->huggingface_sb3->-r https://raw.githubusercontent.com/huggingface/deep-rl-class/main/notebooks/unit1/requirements-unit1.txt (line 4)) (3.7)\n",
            "Requirement already satisfied: urllib3<3,>=1.21.1 in /usr/local/lib/python3.10/dist-packages (from requests->huggingface-hub~=0.8->huggingface_sb3->-r https://raw.githubusercontent.com/huggingface/deep-rl-class/main/notebooks/unit1/requirements-unit1.txt (line 4)) (2.0.7)\n",
            "Requirement already satisfied: certifi>=2017.4.17 in /usr/local/lib/python3.10/dist-packages (from requests->huggingface-hub~=0.8->huggingface_sb3->-r https://raw.githubusercontent.com/huggingface/deep-rl-class/main/notebooks/unit1/requirements-unit1.txt (line 4)) (2024.6.2)\n",
            "Requirement already satisfied: mpmath<1.4.0,>=1.1.0 in /usr/local/lib/python3.10/dist-packages (from sympy->torch>=1.11->stable-baselines3==2.0.0a5->-r https://raw.githubusercontent.com/huggingface/deep-rl-class/main/notebooks/unit1/requirements-unit1.txt (line 1)) (1.3.0)\n"
          ]
        },
        {
          "output_type": "stream",
          "name": "stderr",
          "text": [
            "\n",
            "WARNING: apt does not have a stable CLI interface. Use with caution in scripts.\n",
            "\n"
          ]
        }
      ]
    },
    {
      "cell_type": "code",
      "source": [
        "# %%bash\n",
        "# apt install python3-opengl\n",
        "# apt install ffmpeg\n",
        "# apt install xvfb\n",
        "# pip3 install pyvirtualdisplay"
      ],
      "metadata": {
        "id": "d92TONZz-dTT"
      },
      "execution_count": null,
      "outputs": []
    },
    {
      "cell_type": "code",
      "source": [
        "# import os\n",
        "# os.kill(os.getpid(), 9)"
      ],
      "metadata": {
        "id": "tNrU0OKnz6lC"
      },
      "execution_count": null,
      "outputs": []
    },
    {
      "cell_type": "code",
      "source": [
        "# # Virtual display\n",
        "# from pyvirtualdisplay import Display\n",
        "# virtual_display = Display(visible=0, size=(1400, 900))\n",
        "# virtual_display.start()"
      ],
      "metadata": {
        "colab": {
          "base_uri": "https://localhost:8080/"
        },
        "id": "eFJmafAB0GPI",
        "outputId": "2967a0c6-d962-4789-b64c-3c304050742d"
      },
      "execution_count": 49,
      "outputs": [
        {
          "output_type": "execute_result",
          "data": {
            "text/plain": [
              "<pyvirtualdisplay.display.Display at 0x78a7c70edab0>"
            ]
          },
          "metadata": {},
          "execution_count": 49
        }
      ]
    },
    {
      "cell_type": "code",
      "source": [
        "import gymnasium as gym"
      ],
      "metadata": {
        "id": "TXFMDyAFt9pB"
      },
      "execution_count": 2,
      "outputs": []
    },
    {
      "cell_type": "code",
      "source": [
        "env = gym.make(\"LunarLander-v2\", render_mode='rgb_array')\n",
        "print(\"Observation space : {},\\nAction space : {}\".format(env.observation_space,env.action_space))\n",
        "print(\"Upper Bound for Env Observation\", env.observation_space.high)\n",
        "print(\"Lower Bound for Env Observation\", env.observation_space.low)"
      ],
      "metadata": {
        "colab": {
          "base_uri": "https://localhost:8080/"
        },
        "id": "tKXm34ZKuXcK",
        "outputId": "44b7e914-4f75-4e1e-92e5-a5409621c83e"
      },
      "execution_count": 3,
      "outputs": [
        {
          "output_type": "stream",
          "name": "stdout",
          "text": [
            "Observation space : Box([-90.        -90.         -5.         -5.         -3.1415927  -5.\n",
            "  -0.         -0.       ], [90.        90.         5.         5.         3.1415927  5.\n",
            "  1.         1.       ], (8,), float32),\n",
            "Action space : Discrete(4)\n",
            "Upper Bound for Env Observation [90.        90.         5.         5.         3.1415927  5.\n",
            "  1.         1.       ]\n",
            "Lower Bound for Env Observation [-90.        -90.         -5.         -5.         -3.1415927  -5.\n",
            "  -0.         -0.       ]\n"
          ]
        }
      ]
    },
    {
      "cell_type": "code",
      "source": [
        "# reset the environment and see the initial observation\n",
        "observation, info = env.reset()\n",
        "print(\"The initial observation is {},\\nInfo {}\".format(observation, info))"
      ],
      "metadata": {
        "colab": {
          "base_uri": "https://localhost:8080/"
        },
        "id": "swXxSFM1y-Mr",
        "outputId": "875c32ec-686b-41c8-d8fd-241fcb0ff079"
      },
      "execution_count": 4,
      "outputs": [
        {
          "output_type": "stream",
          "name": "stdout",
          "text": [
            "The initial observation is [-7.2097777e-05  1.3984354e+00 -7.3226234e-03 -5.5488068e-01\n",
            "  9.0379435e-05  1.6587399e-03  0.0000000e+00  0.0000000e+00],\n",
            "Info {}\n"
          ]
        }
      ]
    },
    {
      "cell_type": "code",
      "source": [
        "# Sample a random action from the entire action space\n",
        "random_action = env.action_space.sample()\n",
        "random_action"
      ],
      "metadata": {
        "colab": {
          "base_uri": "https://localhost:8080/"
        },
        "id": "-4GiyGsG0-zv",
        "outputId": "983944ba-ba47-450b-80d8-5fdbe22968fe"
      },
      "execution_count": 5,
      "outputs": [
        {
          "output_type": "execute_result",
          "data": {
            "text/plain": [
              "0"
            ]
          },
          "metadata": {},
          "execution_count": 5
        }
      ]
    },
    {
      "cell_type": "code",
      "source": [
        "# Take the action and get the new observation space\n",
        "observation, reward, terminated, truncated, info = env.step(random_action)\n",
        "print(\"Observation is {}\".format(observation))\n",
        "print(\"Reward is {}\".format(reward))\n",
        "print(\"Terminated is {}\".format(terminated))\n",
        "print(\"Truncated is {}\".format(truncated))\n",
        "print(\"Info is {}\".format(info))"
      ],
      "metadata": {
        "colab": {
          "base_uri": "https://localhost:8080/"
        },
        "id": "PIG8POne1FN7",
        "outputId": "0bd02fbb-c67d-41a2-f91d-4d818766678a"
      },
      "execution_count": 6,
      "outputs": [
        {
          "output_type": "stream",
          "name": "stdout",
          "text": [
            "Observation is [-1.4448166e-04  1.3853741e+00 -7.3126056e-03 -5.8050233e-01\n",
            "  1.7215876e-04  1.6363289e-03  0.0000000e+00  0.0000000e+00]\n",
            "Reward is -1.2639909883121447\n",
            "Terminated is False\n",
            "Truncated is False\n",
            "Info is {}\n"
          ]
        }
      ]
    },
    {
      "cell_type": "code",
      "source": [
        "env.render()"
      ],
      "metadata": {
        "colab": {
          "base_uri": "https://localhost:8080/",
          "height": 440
        },
        "id": "urmcVil-Bc5V",
        "outputId": "a0b2e7e6-dc70-40d2-c84b-f1094bff11c6"
      },
      "execution_count": 7,
      "outputs": [
        {
          "output_type": "execute_result",
          "data": {
            "text/plain": [
              "array([[[  0,   0,   0],\n",
              "        [  0,   0,   0],\n",
              "        [  0,   0,   0],\n",
              "        ...,\n",
              "        [  0,   0,   0],\n",
              "        [  0,   0,   0],\n",
              "        [  0,   0,   0]],\n",
              "\n",
              "       [[  0,   0,   0],\n",
              "        [  0,   0,   0],\n",
              "        [  0,   0,   0],\n",
              "        ...,\n",
              "        [  0,   0,   0],\n",
              "        [  0,   0,   0],\n",
              "        [  0,   0,   0]],\n",
              "\n",
              "       [[  0,   0,   0],\n",
              "        [  0,   0,   0],\n",
              "        [  0,   0,   0],\n",
              "        ...,\n",
              "        [  0,   0,   0],\n",
              "        [  0,   0,   0],\n",
              "        [  0,   0,   0]],\n",
              "\n",
              "       ...,\n",
              "\n",
              "       [[255, 255, 255],\n",
              "        [255, 255, 255],\n",
              "        [255, 255, 255],\n",
              "        ...,\n",
              "        [255, 255, 255],\n",
              "        [255, 255, 255],\n",
              "        [255, 255, 255]],\n",
              "\n",
              "       [[255, 255, 255],\n",
              "        [255, 255, 255],\n",
              "        [255, 255, 255],\n",
              "        ...,\n",
              "        [255, 255, 255],\n",
              "        [255, 255, 255],\n",
              "        [255, 255, 255]],\n",
              "\n",
              "       [[255, 255, 255],\n",
              "        [255, 255, 255],\n",
              "        [255, 255, 255],\n",
              "        ...,\n",
              "        [255, 255, 255],\n",
              "        [255, 255, 255],\n",
              "        [255, 255, 255]]], dtype=uint8)"
            ],
            "text/html": [
              "<style>\n",
              "      .ndarray_repr .ndarray_raw_data {\n",
              "        display: none;\n",
              "      }\n",
              "      .ndarray_repr.show_array .ndarray_raw_data {\n",
              "        display: block;\n",
              "      }\n",
              "      .ndarray_repr.show_array .ndarray_image_preview {\n",
              "        display: none;\n",
              "      }\n",
              "      </style>\n",
              "      <div id=\"id-fa3aebf8-2998-4563-b5b9-fb5c416d361e\" class=\"ndarray_repr\"><pre>ndarray (400, 600, 3) <button style=\"padding: 0 2px;\">show data</button></pre><img src=\"data:image/png;base64,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\" class=\"ndarray_image_preview\" /><pre class=\"ndarray_raw_data\">array([[[  0,   0,   0],\n",
              "        [  0,   0,   0],\n",
              "        [  0,   0,   0],\n",
              "        ...,\n",
              "        [  0,   0,   0],\n",
              "        [  0,   0,   0],\n",
              "        [  0,   0,   0]],\n",
              "\n",
              "       [[  0,   0,   0],\n",
              "        [  0,   0,   0],\n",
              "        [  0,   0,   0],\n",
              "        ...,\n",
              "        [  0,   0,   0],\n",
              "        [  0,   0,   0],\n",
              "        [  0,   0,   0]],\n",
              "\n",
              "       [[  0,   0,   0],\n",
              "        [  0,   0,   0],\n",
              "        [  0,   0,   0],\n",
              "        ...,\n",
              "        [  0,   0,   0],\n",
              "        [  0,   0,   0],\n",
              "        [  0,   0,   0]],\n",
              "\n",
              "       ...,\n",
              "\n",
              "       [[255, 255, 255],\n",
              "        [255, 255, 255],\n",
              "        [255, 255, 255],\n",
              "        ...,\n",
              "        [255, 255, 255],\n",
              "        [255, 255, 255],\n",
              "        [255, 255, 255]],\n",
              "\n",
              "       [[255, 255, 255],\n",
              "        [255, 255, 255],\n",
              "        [255, 255, 255],\n",
              "        ...,\n",
              "        [255, 255, 255],\n",
              "        [255, 255, 255],\n",
              "        [255, 255, 255]],\n",
              "\n",
              "       [[255, 255, 255],\n",
              "        [255, 255, 255],\n",
              "        [255, 255, 255],\n",
              "        ...,\n",
              "        [255, 255, 255],\n",
              "        [255, 255, 255],\n",
              "        [255, 255, 255]]], dtype=uint8)</pre></div><script>\n",
              "      (() => {\n",
              "      const titles = ['show data', 'hide data'];\n",
              "      let index = 0\n",
              "      document.querySelector('#id-fa3aebf8-2998-4563-b5b9-fb5c416d361e button').onclick = (e) => {\n",
              "        document.querySelector('#id-fa3aebf8-2998-4563-b5b9-fb5c416d361e').classList.toggle('show_array');\n",
              "        index = (++index) % 2;\n",
              "        document.querySelector('#id-fa3aebf8-2998-4563-b5b9-fb5c416d361e button').textContent = titles[index];\n",
              "        e.preventDefault();\n",
              "        e.stopPropagation();\n",
              "      }\n",
              "      })();\n",
              "    </script>"
            ]
          },
          "metadata": {},
          "execution_count": 7
        }
      ]
    },
    {
      "cell_type": "code",
      "source": [
        "# Number of steps you run the agent for\n",
        "num_steps = 1000\n",
        "observation, info = env.reset()\n",
        "\n",
        "for step in range(num_steps):\n",
        "    # take random action, but you can also do something more intelligent\n",
        "    action = env.action_space.sample()\n",
        "    # apply the action\n",
        "    obs, reward, terminated, truncated, info = env.step(action)\n",
        "    # If the epsiode is up, then start another one\n",
        "    if terminated:\n",
        "        env.reset()\n",
        "# Close the env\n",
        "env.close()"
      ],
      "metadata": {
        "id": "jbb4jZO3AE7p"
      },
      "execution_count": 8,
      "outputs": []
    },
    {
      "cell_type": "code",
      "source": [
        "env.render()"
      ],
      "metadata": {
        "colab": {
          "base_uri": "https://localhost:8080/",
          "height": 440
        },
        "id": "BWbCuowFANmg",
        "outputId": "03cb99a2-1a2c-4bc1-8ca0-a05b6470a777"
      },
      "execution_count": 9,
      "outputs": [
        {
          "output_type": "execute_result",
          "data": {
            "text/plain": [
              "array([[[  0,   0,   0],\n",
              "        [  0,   0,   0],\n",
              "        [  0,   0,   0],\n",
              "        ...,\n",
              "        [  0,   0,   0],\n",
              "        [  0,   0,   0],\n",
              "        [  0,   0,   0]],\n",
              "\n",
              "       [[  0,   0,   0],\n",
              "        [  0,   0,   0],\n",
              "        [  0,   0,   0],\n",
              "        ...,\n",
              "        [  0,   0,   0],\n",
              "        [  0,   0,   0],\n",
              "        [  0,   0,   0]],\n",
              "\n",
              "       [[  0,   0,   0],\n",
              "        [  0,   0,   0],\n",
              "        [  0,   0,   0],\n",
              "        ...,\n",
              "        [  0,   0,   0],\n",
              "        [  0,   0,   0],\n",
              "        [  0,   0,   0]],\n",
              "\n",
              "       ...,\n",
              "\n",
              "       [[255, 255, 255],\n",
              "        [255, 255, 255],\n",
              "        [255, 255, 255],\n",
              "        ...,\n",
              "        [255, 255, 255],\n",
              "        [255, 255, 255],\n",
              "        [255, 255, 255]],\n",
              "\n",
              "       [[255, 255, 255],\n",
              "        [255, 255, 255],\n",
              "        [255, 255, 255],\n",
              "        ...,\n",
              "        [255, 255, 255],\n",
              "        [255, 255, 255],\n",
              "        [255, 255, 255]],\n",
              "\n",
              "       [[255, 255, 255],\n",
              "        [255, 255, 255],\n",
              "        [255, 255, 255],\n",
              "        ...,\n",
              "        [255, 255, 255],\n",
              "        [255, 255, 255],\n",
              "        [255, 255, 255]]], dtype=uint8)"
            ],
            "text/html": [
              "<style>\n",
              "      .ndarray_repr .ndarray_raw_data {\n",
              "        display: none;\n",
              "      }\n",
              "      .ndarray_repr.show_array .ndarray_raw_data {\n",
              "        display: block;\n",
              "      }\n",
              "      .ndarray_repr.show_array .ndarray_image_preview {\n",
              "        display: none;\n",
              "      }\n",
              "      </style>\n",
              "      <div id=\"id-e8446020-aa96-452a-bdfc-65524304bd5a\" class=\"ndarray_repr\"><pre>ndarray (400, 600, 3) <button style=\"padding: 0 2px;\">show data</button></pre><img src=\"data:image/png;base64,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\" class=\"ndarray_image_preview\" /><pre class=\"ndarray_raw_data\">array([[[  0,   0,   0],\n",
              "        [  0,   0,   0],\n",
              "        [  0,   0,   0],\n",
              "        ...,\n",
              "        [  0,   0,   0],\n",
              "        [  0,   0,   0],\n",
              "        [  0,   0,   0]],\n",
              "\n",
              "       [[  0,   0,   0],\n",
              "        [  0,   0,   0],\n",
              "        [  0,   0,   0],\n",
              "        ...,\n",
              "        [  0,   0,   0],\n",
              "        [  0,   0,   0],\n",
              "        [  0,   0,   0]],\n",
              "\n",
              "       [[  0,   0,   0],\n",
              "        [  0,   0,   0],\n",
              "        [  0,   0,   0],\n",
              "        ...,\n",
              "        [  0,   0,   0],\n",
              "        [  0,   0,   0],\n",
              "        [  0,   0,   0]],\n",
              "\n",
              "       ...,\n",
              "\n",
              "       [[255, 255, 255],\n",
              "        [255, 255, 255],\n",
              "        [255, 255, 255],\n",
              "        ...,\n",
              "        [255, 255, 255],\n",
              "        [255, 255, 255],\n",
              "        [255, 255, 255]],\n",
              "\n",
              "       [[255, 255, 255],\n",
              "        [255, 255, 255],\n",
              "        [255, 255, 255],\n",
              "        ...,\n",
              "        [255, 255, 255],\n",
              "        [255, 255, 255],\n",
              "        [255, 255, 255]],\n",
              "\n",
              "       [[255, 255, 255],\n",
              "        [255, 255, 255],\n",
              "        [255, 255, 255],\n",
              "        ...,\n",
              "        [255, 255, 255],\n",
              "        [255, 255, 255],\n",
              "        [255, 255, 255]]], dtype=uint8)</pre></div><script>\n",
              "      (() => {\n",
              "      const titles = ['show data', 'hide data'];\n",
              "      let index = 0\n",
              "      document.querySelector('#id-e8446020-aa96-452a-bdfc-65524304bd5a button').onclick = (e) => {\n",
              "        document.querySelector('#id-e8446020-aa96-452a-bdfc-65524304bd5a').classList.toggle('show_array');\n",
              "        index = (++index) % 2;\n",
              "        document.querySelector('#id-e8446020-aa96-452a-bdfc-65524304bd5a button').textContent = titles[index];\n",
              "        e.preventDefault();\n",
              "        e.stopPropagation();\n",
              "      }\n",
              "      })();\n",
              "    </script>"
            ]
          },
          "metadata": {},
          "execution_count": 9
        }
      ]
    }
  ]
}