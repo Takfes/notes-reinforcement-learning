{
  "nbformat": 4,
  "nbformat_minor": 0,
  "metadata": {
    "colab": {
      "provenance": [],
      "gpuType": "T4",
      "include_colab_link": true
    },
    "kernelspec": {
      "name": "python3",
      "display_name": "Python 3"
    },
    "accelerator": "GPU"
  },
  "cells": [
    {
      "cell_type": "markdown",
      "metadata": {
        "id": "view-in-github",
        "colab_type": "text"
      },
      "source": [
        "<a href=\"https://colab.research.google.com/github/Takfes/notes-reinforcement-learning/blob/main/notebooks/004_cartpole_sb3_usage_%26_video.ipynb\" target=\"_parent\"><img src=\"https://colab.research.google.com/assets/colab-badge.svg\" alt=\"Open In Colab\"/></a>"
      ]
    },
    {
      "cell_type": "code",
      "source": [
        "# %%bash\n",
        "# sudo apt-get update\n",
        "# apt install swig cmake\n",
        "# pip install -r https://raw.githubusercontent.com/huggingface/deep-rl-class/main/notebooks/unit1/requirements-unit1.txt\n",
        "\n",
        "# https://raw.githubusercontent.com/huggingface/deep-rl-class/main/notebooks/unit1/requirements-unit1.txt\n",
        "# stable-baselines3==2.0.0a5\n",
        "# swig\n",
        "# gymnasium[box2d]\n",
        "# huggingface_sb3"
      ],
      "metadata": {
        "id": "mtjMpI4xwgTI"
      },
      "execution_count": null,
      "outputs": []
    },
    {
      "cell_type": "code",
      "source": [
        "# # for video recording\n",
        "# %%bash\n",
        "# apt install python3-opengl\n",
        "# apt install ffmpeg\n",
        "# apt install xvfb\n",
        "# pip3 install pyvirtualdisplay\n",
        "# python -m pip install pygame"
      ],
      "metadata": {
        "id": "d92TONZz-dTT",
        "colab": {
          "base_uri": "https://localhost:8080/"
        },
        "collapsed": true,
        "outputId": "92fd951a-3c6b-4acd-82e8-1d0ed9d5f67d"
      },
      "execution_count": null,
      "outputs": [
        {
          "output_type": "stream",
          "name": "stdout",
          "text": [
            "Reading package lists...\n",
            "Building dependency tree...\n",
            "Reading state information...\n",
            "The following additional packages will be installed:\n",
            "  freeglut3 libglu1-mesa\n",
            "Suggested packages:\n",
            "  libgle3 python3-numpy\n",
            "The following NEW packages will be installed:\n",
            "  freeglut3 libglu1-mesa python3-opengl\n",
            "0 upgraded, 3 newly installed, 0 to remove and 47 not upgraded.\n",
            "Need to get 824 kB of archives.\n",
            "After this operation, 8,092 kB of additional disk space will be used.\n",
            "Get:1 http://archive.ubuntu.com/ubuntu jammy/universe amd64 freeglut3 amd64 2.8.1-6 [74.0 kB]\n",
            "Get:2 http://archive.ubuntu.com/ubuntu jammy/main amd64 libglu1-mesa amd64 9.0.2-1 [145 kB]\n",
            "Get:3 http://archive.ubuntu.com/ubuntu jammy/universe amd64 python3-opengl all 3.1.5+dfsg-1 [605 kB]\n",
            "Fetched 824 kB in 1s (567 kB/s)\n",
            "Selecting previously unselected package freeglut3:amd64.\r\n",
            "(Reading database ... \r(Reading database ... 5%\r(Reading database ... 10%\r(Reading database ... 15%\r(Reading database ... 20%\r(Reading database ... 25%\r(Reading database ... 30%\r(Reading database ... 35%\r(Reading database ... 40%\r(Reading database ... 45%\r(Reading database ... 50%\r(Reading database ... 55%\r(Reading database ... 60%\r(Reading database ... 65%\r(Reading database ... 70%\r(Reading database ... 75%\r(Reading database ... 80%\r(Reading database ... 85%\r(Reading database ... 90%\r(Reading database ... 95%\r(Reading database ... 100%\r(Reading database ... 122678 files and directories currently installed.)\r\n",
            "Preparing to unpack .../freeglut3_2.8.1-6_amd64.deb ...\r\n",
            "Unpacking freeglut3:amd64 (2.8.1-6) ...\r\n",
            "Selecting previously unselected package libglu1-mesa:amd64.\r\n",
            "Preparing to unpack .../libglu1-mesa_9.0.2-1_amd64.deb ...\r\n",
            "Unpacking libglu1-mesa:amd64 (9.0.2-1) ...\r\n",
            "Selecting previously unselected package python3-opengl.\r\n",
            "Preparing to unpack .../python3-opengl_3.1.5+dfsg-1_all.deb ...\r\n",
            "Unpacking python3-opengl (3.1.5+dfsg-1) ...\r\n",
            "Setting up freeglut3:amd64 (2.8.1-6) ...\r\n",
            "Setting up libglu1-mesa:amd64 (9.0.2-1) ...\r\n",
            "Setting up python3-opengl (3.1.5+dfsg-1) ...\r\n",
            "Processing triggers for libc-bin (2.35-0ubuntu3.4) ...\r\n",
            "/sbin/ldconfig.real: /usr/local/lib/libtbbbind_2_5.so.3 is not a symbolic link\r\n",
            "\r\n",
            "/sbin/ldconfig.real: /usr/local/lib/libtbbmalloc.so.2 is not a symbolic link\r\n",
            "\r\n",
            "/sbin/ldconfig.real: /usr/local/lib/libtbbbind_2_0.so.3 is not a symbolic link\r\n",
            "\r\n",
            "/sbin/ldconfig.real: /usr/local/lib/libtbbmalloc_proxy.so.2 is not a symbolic link\r\n",
            "\r\n",
            "/sbin/ldconfig.real: /usr/local/lib/libtbbbind.so.3 is not a symbolic link\r\n",
            "\r\n",
            "/sbin/ldconfig.real: /usr/local/lib/libtbb.so.12 is not a symbolic link\r\n",
            "\r\n",
            "Reading package lists...\n",
            "Building dependency tree...\n",
            "Reading state information...\n",
            "ffmpeg is already the newest version (7:4.4.2-0ubuntu0.22.04.1).\n",
            "0 upgraded, 0 newly installed, 0 to remove and 47 not upgraded.\n",
            "Reading package lists...\n",
            "Building dependency tree...\n",
            "Reading state information...\n",
            "The following additional packages will be installed:\n",
            "  libfontenc1 libxfont2 libxkbfile1 x11-xkb-utils xfonts-base xfonts-encodings xfonts-utils\n",
            "  xserver-common\n",
            "The following NEW packages will be installed:\n",
            "  libfontenc1 libxfont2 libxkbfile1 x11-xkb-utils xfonts-base xfonts-encodings xfonts-utils\n",
            "  xserver-common xvfb\n",
            "0 upgraded, 9 newly installed, 0 to remove and 47 not upgraded.\n",
            "Need to get 7,813 kB of archives.\n",
            "After this operation, 11.9 MB of additional disk space will be used.\n",
            "Get:1 http://archive.ubuntu.com/ubuntu jammy/main amd64 libfontenc1 amd64 1:1.1.4-1build3 [14.7 kB]\n",
            "Get:2 http://archive.ubuntu.com/ubuntu jammy/main amd64 libxfont2 amd64 1:2.0.5-1build1 [94.5 kB]\n",
            "Get:3 http://archive.ubuntu.com/ubuntu jammy/main amd64 libxkbfile1 amd64 1:1.1.0-1build3 [71.8 kB]\n",
            "Get:4 http://archive.ubuntu.com/ubuntu jammy/main amd64 x11-xkb-utils amd64 7.7+5build4 [172 kB]\n",
            "Get:5 http://archive.ubuntu.com/ubuntu jammy/main amd64 xfonts-encodings all 1:1.0.5-0ubuntu2 [578 kB]\n",
            "Get:6 http://archive.ubuntu.com/ubuntu jammy/main amd64 xfonts-utils amd64 1:7.7+6build2 [94.6 kB]\n",
            "Get:7 http://archive.ubuntu.com/ubuntu jammy/main amd64 xfonts-base all 1:1.0.5 [5,896 kB]\n",
            "Get:8 http://archive.ubuntu.com/ubuntu jammy-updates/main amd64 xserver-common all 2:21.1.4-2ubuntu1.7~22.04.10 [28.5 kB]\n",
            "Get:9 http://archive.ubuntu.com/ubuntu jammy-updates/universe amd64 xvfb amd64 2:21.1.4-2ubuntu1.7~22.04.10 [863 kB]\n",
            "Fetched 7,813 kB in 2s (4,387 kB/s)\n",
            "Selecting previously unselected package libfontenc1:amd64.\r\n",
            "(Reading database ... \r(Reading database ... 5%\r(Reading database ... 10%\r(Reading database ... 15%\r(Reading database ... 20%\r(Reading database ... 25%\r(Reading database ... 30%\r(Reading database ... 35%\r(Reading database ... 40%\r(Reading database ... 45%\r(Reading database ... 50%\r(Reading database ... 55%\r(Reading database ... 60%\r(Reading database ... 65%\r(Reading database ... 70%\r(Reading database ... 75%\r(Reading database ... 80%\r(Reading database ... 85%\r(Reading database ... 90%\r(Reading database ... 95%\r(Reading database ... 100%\r(Reading database ... 125762 files and directories currently installed.)\r\n",
            "Preparing to unpack .../0-libfontenc1_1%3a1.1.4-1build3_amd64.deb ...\r\n",
            "Unpacking libfontenc1:amd64 (1:1.1.4-1build3) ...\r\n",
            "Selecting previously unselected package libxfont2:amd64.\r\n",
            "Preparing to unpack .../1-libxfont2_1%3a2.0.5-1build1_amd64.deb ...\r\n",
            "Unpacking libxfont2:amd64 (1:2.0.5-1build1) ...\r\n",
            "Selecting previously unselected package libxkbfile1:amd64.\r\n",
            "Preparing to unpack .../2-libxkbfile1_1%3a1.1.0-1build3_amd64.deb ...\r\n",
            "Unpacking libxkbfile1:amd64 (1:1.1.0-1build3) ...\r\n",
            "Selecting previously unselected package x11-xkb-utils.\r\n",
            "Preparing to unpack .../3-x11-xkb-utils_7.7+5build4_amd64.deb ...\r\n",
            "Unpacking x11-xkb-utils (7.7+5build4) ...\r\n",
            "Selecting previously unselected package xfonts-encodings.\r\n",
            "Preparing to unpack .../4-xfonts-encodings_1%3a1.0.5-0ubuntu2_all.deb ...\r\n",
            "Unpacking xfonts-encodings (1:1.0.5-0ubuntu2) ...\r\n",
            "Selecting previously unselected package xfonts-utils.\r\n",
            "Preparing to unpack .../5-xfonts-utils_1%3a7.7+6build2_amd64.deb ...\r\n",
            "Unpacking xfonts-utils (1:7.7+6build2) ...\r\n",
            "Selecting previously unselected package xfonts-base.\r\n",
            "Preparing to unpack .../6-xfonts-base_1%3a1.0.5_all.deb ...\r\n",
            "Unpacking xfonts-base (1:1.0.5) ...\r\n",
            "Selecting previously unselected package xserver-common.\r\n",
            "Preparing to unpack .../7-xserver-common_2%3a21.1.4-2ubuntu1.7~22.04.10_all.deb ...\r\n",
            "Unpacking xserver-common (2:21.1.4-2ubuntu1.7~22.04.10) ...\r\n",
            "Selecting previously unselected package xvfb.\r\n",
            "Preparing to unpack .../8-xvfb_2%3a21.1.4-2ubuntu1.7~22.04.10_amd64.deb ...\r\n",
            "Unpacking xvfb (2:21.1.4-2ubuntu1.7~22.04.10) ...\r\n",
            "Setting up libfontenc1:amd64 (1:1.1.4-1build3) ...\r\n",
            "Setting up xfonts-encodings (1:1.0.5-0ubuntu2) ...\r\n",
            "Setting up libxkbfile1:amd64 (1:1.1.0-1build3) ...\r\n",
            "Setting up libxfont2:amd64 (1:2.0.5-1build1) ...\r\n",
            "Setting up x11-xkb-utils (7.7+5build4) ...\r\n",
            "Setting up xfonts-utils (1:7.7+6build2) ...\r\n",
            "Setting up xfonts-base (1:1.0.5) ...\r\n",
            "Setting up xserver-common (2:21.1.4-2ubuntu1.7~22.04.10) ...\r\n",
            "Setting up xvfb (2:21.1.4-2ubuntu1.7~22.04.10) ...\r\n",
            "Processing triggers for man-db (2.10.2-1) ...\r\n",
            "Processing triggers for fontconfig (2.13.1-4.2ubuntu5) ...\r\n",
            "Processing triggers for libc-bin (2.35-0ubuntu3.4) ...\r\n",
            "/sbin/ldconfig.real: /usr/local/lib/libtbbbind_2_5.so.3 is not a symbolic link\r\n",
            "\r\n",
            "/sbin/ldconfig.real: /usr/local/lib/libtbbmalloc.so.2 is not a symbolic link\r\n",
            "\r\n",
            "/sbin/ldconfig.real: /usr/local/lib/libtbbbind_2_0.so.3 is not a symbolic link\r\n",
            "\r\n",
            "/sbin/ldconfig.real: /usr/local/lib/libtbbmalloc_proxy.so.2 is not a symbolic link\r\n",
            "\r\n",
            "/sbin/ldconfig.real: /usr/local/lib/libtbbbind.so.3 is not a symbolic link\r\n",
            "\r\n",
            "/sbin/ldconfig.real: /usr/local/lib/libtbb.so.12 is not a symbolic link\r\n",
            "\r\n",
            "Collecting pyvirtualdisplay\n",
            "  Downloading PyVirtualDisplay-3.0-py3-none-any.whl (15 kB)\n",
            "Installing collected packages: pyvirtualdisplay\n",
            "Successfully installed pyvirtualdisplay-3.0\n"
          ]
        },
        {
          "output_type": "stream",
          "name": "stderr",
          "text": [
            "\n",
            "WARNING: apt does not have a stable CLI interface. Use with caution in scripts.\n",
            "\n",
            "\n",
            "WARNING: apt does not have a stable CLI interface. Use with caution in scripts.\n",
            "\n",
            "\n",
            "WARNING: apt does not have a stable CLI interface. Use with caution in scripts.\n",
            "\n"
          ]
        }
      ]
    },
    {
      "cell_type": "code",
      "source": [
        "%%bash\n",
        "apt-get update && apt-get install ffmpeg freeglut3-dev xvfb  # For visualization\n",
        "pip install \"stable-baselines3[extra]>=2.0.0a4\""
      ],
      "metadata": {
        "colab": {
          "base_uri": "https://localhost:8080/"
        },
        "collapsed": true,
        "id": "KKP4_EmQUXLU",
        "outputId": "fd3af432-adda-4406-8b68-3d5c128fdf54"
      },
      "execution_count": null,
      "outputs": [
        {
          "output_type": "stream",
          "name": "stdout",
          "text": [
            "Hit:1 https://cloud.r-project.org/bin/linux/ubuntu jammy-cran40/ InRelease\n",
            "Hit:2 https://developer.download.nvidia.com/compute/cuda/repos/ubuntu2204/x86_64  InRelease\n",
            "Hit:3 http://security.ubuntu.com/ubuntu jammy-security InRelease\n",
            "Hit:4 http://archive.ubuntu.com/ubuntu jammy InRelease\n",
            "Hit:5 http://archive.ubuntu.com/ubuntu jammy-updates InRelease\n",
            "Hit:6 http://archive.ubuntu.com/ubuntu jammy-backports InRelease\n",
            "Hit:7 https://ppa.launchpadcontent.net/c2d4u.team/c2d4u4.0+/ubuntu jammy InRelease\n",
            "Hit:8 https://ppa.launchpadcontent.net/deadsnakes/ppa/ubuntu jammy InRelease\n",
            "Hit:9 https://ppa.launchpadcontent.net/graphics-drivers/ppa/ubuntu jammy InRelease\n",
            "Hit:10 https://ppa.launchpadcontent.net/ubuntugis/ppa/ubuntu jammy InRelease\n",
            "Reading package lists...\n",
            "Reading package lists...\n",
            "Building dependency tree...\n",
            "Reading state information...\n",
            "ffmpeg is already the newest version (7:4.4.2-0ubuntu0.22.04.1).\n",
            "The following additional packages will be installed:\n",
            "  freeglut3 libegl-dev libfontenc1 libgl-dev libgl1-mesa-dev libgles-dev libgles1 libglu1-mesa\n",
            "  libglu1-mesa-dev libglvnd-core-dev libglvnd-dev libglx-dev libice-dev libopengl-dev libsm-dev\n",
            "  libxfont2 libxkbfile1 libxt-dev x11-xkb-utils xfonts-base xfonts-encodings xfonts-utils\n",
            "  xserver-common\n",
            "Suggested packages:\n",
            "  libice-doc libsm-doc libxt-doc\n",
            "The following NEW packages will be installed:\n",
            "  freeglut3 freeglut3-dev libegl-dev libfontenc1 libgl-dev libgl1-mesa-dev libgles-dev libgles1\n",
            "  libglu1-mesa libglu1-mesa-dev libglvnd-core-dev libglvnd-dev libglx-dev libice-dev libopengl-dev\n",
            "  libsm-dev libxfont2 libxkbfile1 libxt-dev x11-xkb-utils xfonts-base xfonts-encodings xfonts-utils\n",
            "  xserver-common xvfb\n",
            "0 upgraded, 25 newly installed, 0 to remove and 46 not upgraded.\n",
            "Need to get 9,075 kB of archives.\n",
            "After this operation, 18.7 MB of additional disk space will be used.\n",
            "Get:1 http://archive.ubuntu.com/ubuntu jammy/universe amd64 freeglut3 amd64 2.8.1-6 [74.0 kB]\n",
            "Get:2 http://archive.ubuntu.com/ubuntu jammy/main amd64 libglx-dev amd64 1.4.0-1 [14.1 kB]\n",
            "Get:3 http://archive.ubuntu.com/ubuntu jammy/main amd64 libgl-dev amd64 1.4.0-1 [101 kB]\n",
            "Get:4 http://archive.ubuntu.com/ubuntu jammy/main amd64 libglvnd-core-dev amd64 1.4.0-1 [12.7 kB]\n",
            "Get:5 http://archive.ubuntu.com/ubuntu jammy/main amd64 libegl-dev amd64 1.4.0-1 [18.0 kB]\n",
            "Get:6 http://archive.ubuntu.com/ubuntu jammy/main amd64 libgles1 amd64 1.4.0-1 [11.5 kB]\n",
            "Get:7 http://archive.ubuntu.com/ubuntu jammy/main amd64 libgles-dev amd64 1.4.0-1 [49.4 kB]\n",
            "Get:8 http://archive.ubuntu.com/ubuntu jammy/main amd64 libopengl-dev amd64 1.4.0-1 [3,400 B]\n",
            "Get:9 http://archive.ubuntu.com/ubuntu jammy/main amd64 libglvnd-dev amd64 1.4.0-1 [3,162 B]\n",
            "Get:10 http://archive.ubuntu.com/ubuntu jammy-updates/main amd64 libgl1-mesa-dev amd64 23.2.1-1ubuntu3.1~22.04.2 [6,842 B]\n",
            "Get:11 http://archive.ubuntu.com/ubuntu jammy/main amd64 libglu1-mesa amd64 9.0.2-1 [145 kB]\n",
            "Get:12 http://archive.ubuntu.com/ubuntu jammy/main amd64 libglu1-mesa-dev amd64 9.0.2-1 [231 kB]\n",
            "Get:13 http://archive.ubuntu.com/ubuntu jammy/main amd64 libice-dev amd64 2:1.0.10-1build2 [51.4 kB]\n",
            "Get:14 http://archive.ubuntu.com/ubuntu jammy/main amd64 libsm-dev amd64 2:1.2.3-1build2 [18.1 kB]\n",
            "Get:15 http://archive.ubuntu.com/ubuntu jammy/main amd64 libxt-dev amd64 1:1.2.1-1 [396 kB]\n",
            "Get:16 http://archive.ubuntu.com/ubuntu jammy/universe amd64 freeglut3-dev amd64 2.8.1-6 [126 kB]\n",
            "Get:17 http://archive.ubuntu.com/ubuntu jammy/main amd64 libfontenc1 amd64 1:1.1.4-1build3 [14.7 kB]\n",
            "Get:18 http://archive.ubuntu.com/ubuntu jammy/main amd64 libxfont2 amd64 1:2.0.5-1build1 [94.5 kB]\n",
            "Get:19 http://archive.ubuntu.com/ubuntu jammy/main amd64 libxkbfile1 amd64 1:1.1.0-1build3 [71.8 kB]\n",
            "Get:20 http://archive.ubuntu.com/ubuntu jammy/main amd64 x11-xkb-utils amd64 7.7+5build4 [172 kB]\n",
            "Get:21 http://archive.ubuntu.com/ubuntu jammy/main amd64 xfonts-encodings all 1:1.0.5-0ubuntu2 [578 kB]\n",
            "Get:22 http://archive.ubuntu.com/ubuntu jammy/main amd64 xfonts-utils amd64 1:7.7+6build2 [94.6 kB]\n",
            "Get:23 http://archive.ubuntu.com/ubuntu jammy/main amd64 xfonts-base all 1:1.0.5 [5,896 kB]\n",
            "Get:24 http://archive.ubuntu.com/ubuntu jammy-updates/main amd64 xserver-common all 2:21.1.4-2ubuntu1.7~22.04.10 [28.5 kB]\n",
            "Get:25 http://archive.ubuntu.com/ubuntu jammy-updates/universe amd64 xvfb amd64 2:21.1.4-2ubuntu1.7~22.04.10 [863 kB]\n",
            "Fetched 9,075 kB in 3s (3,194 kB/s)\n",
            "Selecting previously unselected package freeglut3:amd64.\r\n",
            "(Reading database ... \r(Reading database ... 5%\r(Reading database ... 10%\r(Reading database ... 15%\r(Reading database ... 20%\r(Reading database ... 25%\r(Reading database ... 30%\r(Reading database ... 35%\r(Reading database ... 40%\r(Reading database ... 45%\r(Reading database ... 50%\r(Reading database ... 55%\r(Reading database ... 60%\r(Reading database ... 65%\r(Reading database ... 70%\r(Reading database ... 75%\r(Reading database ... 80%\r(Reading database ... 85%\r(Reading database ... 90%\r(Reading database ... 95%\r(Reading database ... 100%\r(Reading database ... 121925 files and directories currently installed.)\r\n",
            "Preparing to unpack .../00-freeglut3_2.8.1-6_amd64.deb ...\r\n",
            "Unpacking freeglut3:amd64 (2.8.1-6) ...\r\n",
            "Selecting previously unselected package libglx-dev:amd64.\r\n",
            "Preparing to unpack .../01-libglx-dev_1.4.0-1_amd64.deb ...\r\n",
            "Unpacking libglx-dev:amd64 (1.4.0-1) ...\r\n",
            "Selecting previously unselected package libgl-dev:amd64.\r\n",
            "Preparing to unpack .../02-libgl-dev_1.4.0-1_amd64.deb ...\r\n",
            "Unpacking libgl-dev:amd64 (1.4.0-1) ...\r\n",
            "Selecting previously unselected package libglvnd-core-dev:amd64.\r\n",
            "Preparing to unpack .../03-libglvnd-core-dev_1.4.0-1_amd64.deb ...\r\n",
            "Unpacking libglvnd-core-dev:amd64 (1.4.0-1) ...\r\n",
            "Selecting previously unselected package libegl-dev:amd64.\r\n",
            "Preparing to unpack .../04-libegl-dev_1.4.0-1_amd64.deb ...\r\n",
            "Unpacking libegl-dev:amd64 (1.4.0-1) ...\r\n",
            "Selecting previously unselected package libgles1:amd64.\r\n",
            "Preparing to unpack .../05-libgles1_1.4.0-1_amd64.deb ...\r\n",
            "Unpacking libgles1:amd64 (1.4.0-1) ...\r\n",
            "Selecting previously unselected package libgles-dev:amd64.\r\n",
            "Preparing to unpack .../06-libgles-dev_1.4.0-1_amd64.deb ...\r\n",
            "Unpacking libgles-dev:amd64 (1.4.0-1) ...\r\n",
            "Selecting previously unselected package libopengl-dev:amd64.\r\n",
            "Preparing to unpack .../07-libopengl-dev_1.4.0-1_amd64.deb ...\r\n",
            "Unpacking libopengl-dev:amd64 (1.4.0-1) ...\r\n",
            "Selecting previously unselected package libglvnd-dev:amd64.\r\n",
            "Preparing to unpack .../08-libglvnd-dev_1.4.0-1_amd64.deb ...\r\n",
            "Unpacking libglvnd-dev:amd64 (1.4.0-1) ...\r\n",
            "Selecting previously unselected package libgl1-mesa-dev:amd64.\r\n",
            "Preparing to unpack .../09-libgl1-mesa-dev_23.2.1-1ubuntu3.1~22.04.2_amd64.deb ...\r\n",
            "Unpacking libgl1-mesa-dev:amd64 (23.2.1-1ubuntu3.1~22.04.2) ...\r\n",
            "Selecting previously unselected package libglu1-mesa:amd64.\r\n",
            "Preparing to unpack .../10-libglu1-mesa_9.0.2-1_amd64.deb ...\r\n",
            "Unpacking libglu1-mesa:amd64 (9.0.2-1) ...\r\n",
            "Selecting previously unselected package libglu1-mesa-dev:amd64.\r\n",
            "Preparing to unpack .../11-libglu1-mesa-dev_9.0.2-1_amd64.deb ...\r\n",
            "Unpacking libglu1-mesa-dev:amd64 (9.0.2-1) ...\r\n",
            "Selecting previously unselected package libice-dev:amd64.\r\n",
            "Preparing to unpack .../12-libice-dev_2%3a1.0.10-1build2_amd64.deb ...\r\n",
            "Unpacking libice-dev:amd64 (2:1.0.10-1build2) ...\r\n",
            "Selecting previously unselected package libsm-dev:amd64.\r\n",
            "Preparing to unpack .../13-libsm-dev_2%3a1.2.3-1build2_amd64.deb ...\r\n",
            "Unpacking libsm-dev:amd64 (2:1.2.3-1build2) ...\r\n",
            "Selecting previously unselected package libxt-dev:amd64.\r\n",
            "Preparing to unpack .../14-libxt-dev_1%3a1.2.1-1_amd64.deb ...\r\n",
            "Unpacking libxt-dev:amd64 (1:1.2.1-1) ...\r\n",
            "Selecting previously unselected package freeglut3-dev:amd64.\r\n",
            "Preparing to unpack .../15-freeglut3-dev_2.8.1-6_amd64.deb ...\r\n",
            "Unpacking freeglut3-dev:amd64 (2.8.1-6) ...\r\n",
            "Selecting previously unselected package libfontenc1:amd64.\r\n",
            "Preparing to unpack .../16-libfontenc1_1%3a1.1.4-1build3_amd64.deb ...\r\n",
            "Unpacking libfontenc1:amd64 (1:1.1.4-1build3) ...\r\n",
            "Selecting previously unselected package libxfont2:amd64.\r\n",
            "Preparing to unpack .../17-libxfont2_1%3a2.0.5-1build1_amd64.deb ...\r\n",
            "Unpacking libxfont2:amd64 (1:2.0.5-1build1) ...\r\n",
            "Selecting previously unselected package libxkbfile1:amd64.\r\n",
            "Preparing to unpack .../18-libxkbfile1_1%3a1.1.0-1build3_amd64.deb ...\r\n",
            "Unpacking libxkbfile1:amd64 (1:1.1.0-1build3) ...\r\n",
            "Selecting previously unselected package x11-xkb-utils.\r\n",
            "Preparing to unpack .../19-x11-xkb-utils_7.7+5build4_amd64.deb ...\r\n",
            "Unpacking x11-xkb-utils (7.7+5build4) ...\r\n",
            "Selecting previously unselected package xfonts-encodings.\r\n",
            "Preparing to unpack .../20-xfonts-encodings_1%3a1.0.5-0ubuntu2_all.deb ...\r\n",
            "Unpacking xfonts-encodings (1:1.0.5-0ubuntu2) ...\r\n",
            "Selecting previously unselected package xfonts-utils.\r\n",
            "Preparing to unpack .../21-xfonts-utils_1%3a7.7+6build2_amd64.deb ...\r\n",
            "Unpacking xfonts-utils (1:7.7+6build2) ...\r\n",
            "Selecting previously unselected package xfonts-base.\r\n",
            "Preparing to unpack .../22-xfonts-base_1%3a1.0.5_all.deb ...\r\n",
            "Unpacking xfonts-base (1:1.0.5) ...\r\n",
            "Selecting previously unselected package xserver-common.\r\n",
            "Preparing to unpack .../23-xserver-common_2%3a21.1.4-2ubuntu1.7~22.04.10_all.deb ...\r\n",
            "Unpacking xserver-common (2:21.1.4-2ubuntu1.7~22.04.10) ...\r\n",
            "Selecting previously unselected package xvfb.\r\n",
            "Preparing to unpack .../24-xvfb_2%3a21.1.4-2ubuntu1.7~22.04.10_amd64.deb ...\r\n",
            "Unpacking xvfb (2:21.1.4-2ubuntu1.7~22.04.10) ...\r\n",
            "Setting up freeglut3:amd64 (2.8.1-6) ...\r\n",
            "Setting up libglvnd-core-dev:amd64 (1.4.0-1) ...\r\n",
            "Setting up libice-dev:amd64 (2:1.0.10-1build2) ...\r\n",
            "Setting up libsm-dev:amd64 (2:1.2.3-1build2) ...\r\n",
            "Setting up libfontenc1:amd64 (1:1.1.4-1build3) ...\r\n",
            "Setting up libxt-dev:amd64 (1:1.2.1-1) ...\r\n",
            "Setting up libgles1:amd64 (1.4.0-1) ...\r\n",
            "Setting up xfonts-encodings (1:1.0.5-0ubuntu2) ...\r\n",
            "Setting up libglx-dev:amd64 (1.4.0-1) ...\r\n",
            "Setting up libglu1-mesa:amd64 (9.0.2-1) ...\r\n",
            "Setting up libxkbfile1:amd64 (1:1.1.0-1build3) ...\r\n",
            "Setting up libopengl-dev:amd64 (1.4.0-1) ...\r\n",
            "Setting up libxfont2:amd64 (1:2.0.5-1build1) ...\r\n",
            "Setting up libgl-dev:amd64 (1.4.0-1) ...\r\n",
            "Setting up libegl-dev:amd64 (1.4.0-1) ...\r\n",
            "Setting up x11-xkb-utils (7.7+5build4) ...\r\n",
            "Setting up xfonts-utils (1:7.7+6build2) ...\r\n",
            "Setting up xfonts-base (1:1.0.5) ...\r\n",
            "Setting up libglu1-mesa-dev:amd64 (9.0.2-1) ...\r\n",
            "Setting up xserver-common (2:21.1.4-2ubuntu1.7~22.04.10) ...\r\n",
            "Setting up libgles-dev:amd64 (1.4.0-1) ...\r\n",
            "Setting up xvfb (2:21.1.4-2ubuntu1.7~22.04.10) ...\r\n",
            "Setting up libglvnd-dev:amd64 (1.4.0-1) ...\r\n",
            "Setting up libgl1-mesa-dev:amd64 (23.2.1-1ubuntu3.1~22.04.2) ...\r\n",
            "Setting up freeglut3-dev:amd64 (2.8.1-6) ...\r\n",
            "Processing triggers for libc-bin (2.35-0ubuntu3.4) ...\r\n",
            "/sbin/ldconfig.real: /usr/local/lib/libtbbbind_2_5.so.3 is not a symbolic link\r\n",
            "\r\n",
            "/sbin/ldconfig.real: /usr/local/lib/libtbbbind_2_0.so.3 is not a symbolic link\r\n",
            "\r\n",
            "/sbin/ldconfig.real: /usr/local/lib/libtbbmalloc_proxy.so.2 is not a symbolic link\r\n",
            "\r\n",
            "/sbin/ldconfig.real: /usr/local/lib/libtbbbind.so.3 is not a symbolic link\r\n",
            "\r\n",
            "/sbin/ldconfig.real: /usr/local/lib/libtbbmalloc.so.2 is not a symbolic link\r\n",
            "\r\n",
            "/sbin/ldconfig.real: /usr/local/lib/libtbb.so.12 is not a symbolic link\r\n",
            "\r\n",
            "Processing triggers for man-db (2.10.2-1) ...\r\n",
            "Processing triggers for fontconfig (2.13.1-4.2ubuntu5) ...\r\n",
            "Collecting stable-baselines3[extra]>=2.0.0a4\n",
            "  Downloading stable_baselines3-2.4.0a1-py3-none-any.whl (182 kB)\n",
            "     ━━━━━━━━━━━━━━━━━━━━━━━━━━━━━━━━━━━━━━━━ 182.3/182.3 kB 3.3 MB/s eta 0:00:00\n",
            "Collecting gymnasium<0.30,>=0.28.1 (from stable-baselines3[extra]>=2.0.0a4)\n",
            "  Downloading gymnasium-0.29.1-py3-none-any.whl (953 kB)\n",
            "     ━━━━━━━━━━━━━━━━━━━━━━━━━━━━━━━━━━━━━━━━ 953.9/953.9 kB 41.3 MB/s eta 0:00:00\n",
            "Requirement already satisfied: numpy>=1.20 in /usr/local/lib/python3.10/dist-packages (from stable-baselines3[extra]>=2.0.0a4) (1.25.2)\n",
            "Requirement already satisfied: torch>=1.13 in /usr/local/lib/python3.10/dist-packages (from stable-baselines3[extra]>=2.0.0a4) (2.3.0+cu121)\n",
            "Requirement already satisfied: cloudpickle in /usr/local/lib/python3.10/dist-packages (from stable-baselines3[extra]>=2.0.0a4) (2.2.1)\n",
            "Requirement already satisfied: pandas in /usr/local/lib/python3.10/dist-packages (from stable-baselines3[extra]>=2.0.0a4) (2.0.3)\n",
            "Requirement already satisfied: matplotlib in /usr/local/lib/python3.10/dist-packages (from stable-baselines3[extra]>=2.0.0a4) (3.7.1)\n",
            "Requirement already satisfied: opencv-python in /usr/local/lib/python3.10/dist-packages (from stable-baselines3[extra]>=2.0.0a4) (4.8.0.76)\n",
            "Requirement already satisfied: pygame in /usr/local/lib/python3.10/dist-packages (from stable-baselines3[extra]>=2.0.0a4) (2.5.2)\n",
            "Requirement already satisfied: tensorboard>=2.9.1 in /usr/local/lib/python3.10/dist-packages (from stable-baselines3[extra]>=2.0.0a4) (2.15.2)\n",
            "Requirement already satisfied: psutil in /usr/local/lib/python3.10/dist-packages (from stable-baselines3[extra]>=2.0.0a4) (5.9.5)\n",
            "Requirement already satisfied: tqdm in /usr/local/lib/python3.10/dist-packages (from stable-baselines3[extra]>=2.0.0a4) (4.66.4)\n",
            "Requirement already satisfied: rich in /usr/local/lib/python3.10/dist-packages (from stable-baselines3[extra]>=2.0.0a4) (13.7.1)\n",
            "Collecting shimmy[atari]~=1.3.0 (from stable-baselines3[extra]>=2.0.0a4)\n",
            "  Downloading Shimmy-1.3.0-py3-none-any.whl (37 kB)\n",
            "Requirement already satisfied: pillow in /usr/local/lib/python3.10/dist-packages (from stable-baselines3[extra]>=2.0.0a4) (9.4.0)\n",
            "Collecting autorom[accept-rom-license]~=0.6.1 (from stable-baselines3[extra]>=2.0.0a4)\n",
            "  Downloading AutoROM-0.6.1-py3-none-any.whl (9.4 kB)\n",
            "Requirement already satisfied: click in /usr/local/lib/python3.10/dist-packages (from autorom[accept-rom-license]~=0.6.1->stable-baselines3[extra]>=2.0.0a4) (8.1.7)\n",
            "Requirement already satisfied: requests in /usr/local/lib/python3.10/dist-packages (from autorom[accept-rom-license]~=0.6.1->stable-baselines3[extra]>=2.0.0a4) (2.31.0)\n",
            "Collecting AutoROM.accept-rom-license (from autorom[accept-rom-license]~=0.6.1->stable-baselines3[extra]>=2.0.0a4)\n",
            "  Downloading AutoROM.accept-rom-license-0.6.1.tar.gz (434 kB)\n",
            "     ━━━━━━━━━━━━━━━━━━━━━━━━━━━━━━━━━━━━━━━━ 434.7/434.7 kB 48.9 MB/s eta 0:00:00\n",
            "  Installing build dependencies: started\n",
            "  Installing build dependencies: finished with status 'done'\n",
            "  Getting requirements to build wheel: started\n",
            "  Getting requirements to build wheel: finished with status 'done'\n",
            "  Preparing metadata (pyproject.toml): started\n",
            "  Preparing metadata (pyproject.toml): finished with status 'done'\n",
            "Requirement already satisfied: typing-extensions>=4.3.0 in /usr/local/lib/python3.10/dist-packages (from gymnasium<0.30,>=0.28.1->stable-baselines3[extra]>=2.0.0a4) (4.12.2)\n",
            "Collecting farama-notifications>=0.0.1 (from gymnasium<0.30,>=0.28.1->stable-baselines3[extra]>=2.0.0a4)\n",
            "  Using cached Farama_Notifications-0.0.4-py3-none-any.whl (2.5 kB)\n",
            "Collecting ale-py~=0.8.1 (from shimmy[atari]~=1.3.0->stable-baselines3[extra]>=2.0.0a4)\n",
            "  Downloading ale_py-0.8.1-cp310-cp310-manylinux_2_17_x86_64.manylinux2014_x86_64.whl (1.7 MB)\n",
            "     ━━━━━━━━━━━━━━━━━━━━━━━━━━━━━━━━━━━━━━━━ 1.7/1.7 MB 54.2 MB/s eta 0:00:00\n",
            "Requirement already satisfied: absl-py>=0.4 in /usr/local/lib/python3.10/dist-packages (from tensorboard>=2.9.1->stable-baselines3[extra]>=2.0.0a4) (1.4.0)\n",
            "Requirement already satisfied: grpcio>=1.48.2 in /usr/local/lib/python3.10/dist-packages (from tensorboard>=2.9.1->stable-baselines3[extra]>=2.0.0a4) (1.64.1)\n",
            "Requirement already satisfied: google-auth<3,>=1.6.3 in /usr/local/lib/python3.10/dist-packages (from tensorboard>=2.9.1->stable-baselines3[extra]>=2.0.0a4) (2.27.0)\n",
            "Requirement already satisfied: google-auth-oauthlib<2,>=0.5 in /usr/local/lib/python3.10/dist-packages (from tensorboard>=2.9.1->stable-baselines3[extra]>=2.0.0a4) (1.2.0)\n",
            "Requirement already satisfied: markdown>=2.6.8 in /usr/local/lib/python3.10/dist-packages (from tensorboard>=2.9.1->stable-baselines3[extra]>=2.0.0a4) (3.6)\n",
            "Requirement already satisfied: protobuf!=4.24.0,>=3.19.6 in /usr/local/lib/python3.10/dist-packages (from tensorboard>=2.9.1->stable-baselines3[extra]>=2.0.0a4) (3.20.3)\n",
            "Requirement already satisfied: setuptools>=41.0.0 in /usr/local/lib/python3.10/dist-packages (from tensorboard>=2.9.1->stable-baselines3[extra]>=2.0.0a4) (67.7.2)\n",
            "Requirement already satisfied: six>1.9 in /usr/local/lib/python3.10/dist-packages (from tensorboard>=2.9.1->stable-baselines3[extra]>=2.0.0a4) (1.16.0)\n",
            "Requirement already satisfied: tensorboard-data-server<0.8.0,>=0.7.0 in /usr/local/lib/python3.10/dist-packages (from tensorboard>=2.9.1->stable-baselines3[extra]>=2.0.0a4) (0.7.2)\n",
            "Requirement already satisfied: werkzeug>=1.0.1 in /usr/local/lib/python3.10/dist-packages (from tensorboard>=2.9.1->stable-baselines3[extra]>=2.0.0a4) (3.0.3)\n",
            "Requirement already satisfied: filelock in /usr/local/lib/python3.10/dist-packages (from torch>=1.13->stable-baselines3[extra]>=2.0.0a4) (3.15.3)\n",
            "Requirement already satisfied: sympy in /usr/local/lib/python3.10/dist-packages (from torch>=1.13->stable-baselines3[extra]>=2.0.0a4) (1.12.1)\n",
            "Requirement already satisfied: networkx in /usr/local/lib/python3.10/dist-packages (from torch>=1.13->stable-baselines3[extra]>=2.0.0a4) (3.3)\n",
            "Requirement already satisfied: jinja2 in /usr/local/lib/python3.10/dist-packages (from torch>=1.13->stable-baselines3[extra]>=2.0.0a4) (3.1.4)\n",
            "Requirement already satisfied: fsspec in /usr/local/lib/python3.10/dist-packages (from torch>=1.13->stable-baselines3[extra]>=2.0.0a4) (2023.6.0)\n",
            "Collecting nvidia-cuda-nvrtc-cu12==12.1.105 (from torch>=1.13->stable-baselines3[extra]>=2.0.0a4)\n",
            "  Using cached nvidia_cuda_nvrtc_cu12-12.1.105-py3-none-manylinux1_x86_64.whl (23.7 MB)\n",
            "Collecting nvidia-cuda-runtime-cu12==12.1.105 (from torch>=1.13->stable-baselines3[extra]>=2.0.0a4)\n",
            "  Using cached nvidia_cuda_runtime_cu12-12.1.105-py3-none-manylinux1_x86_64.whl (823 kB)\n",
            "Collecting nvidia-cuda-cupti-cu12==12.1.105 (from torch>=1.13->stable-baselines3[extra]>=2.0.0a4)\n",
            "  Using cached nvidia_cuda_cupti_cu12-12.1.105-py3-none-manylinux1_x86_64.whl (14.1 MB)\n",
            "Collecting nvidia-cudnn-cu12==8.9.2.26 (from torch>=1.13->stable-baselines3[extra]>=2.0.0a4)\n",
            "  Using cached nvidia_cudnn_cu12-8.9.2.26-py3-none-manylinux1_x86_64.whl (731.7 MB)\n",
            "Collecting nvidia-cublas-cu12==12.1.3.1 (from torch>=1.13->stable-baselines3[extra]>=2.0.0a4)\n",
            "  Using cached nvidia_cublas_cu12-12.1.3.1-py3-none-manylinux1_x86_64.whl (410.6 MB)\n",
            "Collecting nvidia-cufft-cu12==11.0.2.54 (from torch>=1.13->stable-baselines3[extra]>=2.0.0a4)\n",
            "  Using cached nvidia_cufft_cu12-11.0.2.54-py3-none-manylinux1_x86_64.whl (121.6 MB)\n",
            "Collecting nvidia-curand-cu12==10.3.2.106 (from torch>=1.13->stable-baselines3[extra]>=2.0.0a4)\n",
            "  Using cached nvidia_curand_cu12-10.3.2.106-py3-none-manylinux1_x86_64.whl (56.5 MB)\n",
            "Collecting nvidia-cusolver-cu12==11.4.5.107 (from torch>=1.13->stable-baselines3[extra]>=2.0.0a4)\n",
            "  Using cached nvidia_cusolver_cu12-11.4.5.107-py3-none-manylinux1_x86_64.whl (124.2 MB)\n",
            "Collecting nvidia-cusparse-cu12==12.1.0.106 (from torch>=1.13->stable-baselines3[extra]>=2.0.0a4)\n",
            "  Using cached nvidia_cusparse_cu12-12.1.0.106-py3-none-manylinux1_x86_64.whl (196.0 MB)\n",
            "Collecting nvidia-nccl-cu12==2.20.5 (from torch>=1.13->stable-baselines3[extra]>=2.0.0a4)\n",
            "  Using cached nvidia_nccl_cu12-2.20.5-py3-none-manylinux2014_x86_64.whl (176.2 MB)\n",
            "Collecting nvidia-nvtx-cu12==12.1.105 (from torch>=1.13->stable-baselines3[extra]>=2.0.0a4)\n",
            "  Using cached nvidia_nvtx_cu12-12.1.105-py3-none-manylinux1_x86_64.whl (99 kB)\n",
            "Requirement already satisfied: triton==2.3.0 in /usr/local/lib/python3.10/dist-packages (from torch>=1.13->stable-baselines3[extra]>=2.0.0a4) (2.3.0)\n",
            "Collecting nvidia-nvjitlink-cu12 (from nvidia-cusolver-cu12==11.4.5.107->torch>=1.13->stable-baselines3[extra]>=2.0.0a4)\n",
            "  Downloading nvidia_nvjitlink_cu12-12.5.40-py3-none-manylinux2014_x86_64.whl (21.3 MB)\n",
            "     ━━━━━━━━━━━━━━━━━━━━━━━━━━━━━━━━━━━━━━━━ 21.3/21.3 MB 67.2 MB/s eta 0:00:00\n",
            "Requirement already satisfied: contourpy>=1.0.1 in /usr/local/lib/python3.10/dist-packages (from matplotlib->stable-baselines3[extra]>=2.0.0a4) (1.2.1)\n",
            "Requirement already satisfied: cycler>=0.10 in /usr/local/lib/python3.10/dist-packages (from matplotlib->stable-baselines3[extra]>=2.0.0a4) (0.12.1)\n",
            "Requirement already satisfied: fonttools>=4.22.0 in /usr/local/lib/python3.10/dist-packages (from matplotlib->stable-baselines3[extra]>=2.0.0a4) (4.53.0)\n",
            "Requirement already satisfied: kiwisolver>=1.0.1 in /usr/local/lib/python3.10/dist-packages (from matplotlib->stable-baselines3[extra]>=2.0.0a4) (1.4.5)\n",
            "Requirement already satisfied: packaging>=20.0 in /usr/local/lib/python3.10/dist-packages (from matplotlib->stable-baselines3[extra]>=2.0.0a4) (24.1)\n",
            "Requirement already satisfied: pyparsing>=2.3.1 in /usr/local/lib/python3.10/dist-packages (from matplotlib->stable-baselines3[extra]>=2.0.0a4) (3.1.2)\n",
            "Requirement already satisfied: python-dateutil>=2.7 in /usr/local/lib/python3.10/dist-packages (from matplotlib->stable-baselines3[extra]>=2.0.0a4) (2.8.2)\n",
            "Requirement already satisfied: pytz>=2020.1 in /usr/local/lib/python3.10/dist-packages (from pandas->stable-baselines3[extra]>=2.0.0a4) (2023.4)\n",
            "Requirement already satisfied: tzdata>=2022.1 in /usr/local/lib/python3.10/dist-packages (from pandas->stable-baselines3[extra]>=2.0.0a4) (2024.1)\n",
            "Requirement already satisfied: markdown-it-py>=2.2.0 in /usr/local/lib/python3.10/dist-packages (from rich->stable-baselines3[extra]>=2.0.0a4) (3.0.0)\n",
            "Requirement already satisfied: pygments<3.0.0,>=2.13.0 in /usr/local/lib/python3.10/dist-packages (from rich->stable-baselines3[extra]>=2.0.0a4) (2.16.1)\n",
            "Requirement already satisfied: importlib-resources in /usr/local/lib/python3.10/dist-packages (from ale-py~=0.8.1->shimmy[atari]~=1.3.0->stable-baselines3[extra]>=2.0.0a4) (6.4.0)\n",
            "Requirement already satisfied: cachetools<6.0,>=2.0.0 in /usr/local/lib/python3.10/dist-packages (from google-auth<3,>=1.6.3->tensorboard>=2.9.1->stable-baselines3[extra]>=2.0.0a4) (5.3.3)\n",
            "Requirement already satisfied: pyasn1-modules>=0.2.1 in /usr/local/lib/python3.10/dist-packages (from google-auth<3,>=1.6.3->tensorboard>=2.9.1->stable-baselines3[extra]>=2.0.0a4) (0.4.0)\n",
            "Requirement already satisfied: rsa<5,>=3.1.4 in /usr/local/lib/python3.10/dist-packages (from google-auth<3,>=1.6.3->tensorboard>=2.9.1->stable-baselines3[extra]>=2.0.0a4) (4.9)\n",
            "Requirement already satisfied: requests-oauthlib>=0.7.0 in /usr/local/lib/python3.10/dist-packages (from google-auth-oauthlib<2,>=0.5->tensorboard>=2.9.1->stable-baselines3[extra]>=2.0.0a4) (1.3.1)\n",
            "Requirement already satisfied: mdurl~=0.1 in /usr/local/lib/python3.10/dist-packages (from markdown-it-py>=2.2.0->rich->stable-baselines3[extra]>=2.0.0a4) (0.1.2)\n",
            "Requirement already satisfied: charset-normalizer<4,>=2 in /usr/local/lib/python3.10/dist-packages (from requests->autorom[accept-rom-license]~=0.6.1->stable-baselines3[extra]>=2.0.0a4) (3.3.2)\n",
            "Requirement already satisfied: idna<4,>=2.5 in /usr/local/lib/python3.10/dist-packages (from requests->autorom[accept-rom-license]~=0.6.1->stable-baselines3[extra]>=2.0.0a4) (3.7)\n",
            "Requirement already satisfied: urllib3<3,>=1.21.1 in /usr/local/lib/python3.10/dist-packages (from requests->autorom[accept-rom-license]~=0.6.1->stable-baselines3[extra]>=2.0.0a4) (2.0.7)\n",
            "Requirement already satisfied: certifi>=2017.4.17 in /usr/local/lib/python3.10/dist-packages (from requests->autorom[accept-rom-license]~=0.6.1->stable-baselines3[extra]>=2.0.0a4) (2024.6.2)\n",
            "Requirement already satisfied: MarkupSafe>=2.1.1 in /usr/local/lib/python3.10/dist-packages (from werkzeug>=1.0.1->tensorboard>=2.9.1->stable-baselines3[extra]>=2.0.0a4) (2.1.5)\n",
            "Requirement already satisfied: mpmath<1.4.0,>=1.1.0 in /usr/local/lib/python3.10/dist-packages (from sympy->torch>=1.13->stable-baselines3[extra]>=2.0.0a4) (1.3.0)\n",
            "Requirement already satisfied: pyasn1<0.7.0,>=0.4.6 in /usr/local/lib/python3.10/dist-packages (from pyasn1-modules>=0.2.1->google-auth<3,>=1.6.3->tensorboard>=2.9.1->stable-baselines3[extra]>=2.0.0a4) (0.6.0)\n",
            "Requirement already satisfied: oauthlib>=3.0.0 in /usr/local/lib/python3.10/dist-packages (from requests-oauthlib>=0.7.0->google-auth-oauthlib<2,>=0.5->tensorboard>=2.9.1->stable-baselines3[extra]>=2.0.0a4) (3.2.2)\n",
            "Building wheels for collected packages: AutoROM.accept-rom-license\n",
            "  Building wheel for AutoROM.accept-rom-license (pyproject.toml): started\n",
            "  Building wheel for AutoROM.accept-rom-license (pyproject.toml): finished with status 'done'\n",
            "  Created wheel for AutoROM.accept-rom-license: filename=AutoROM.accept_rom_license-0.6.1-py3-none-any.whl size=446660 sha256=9a4af70c418ce468b1b7638444fe9780d5c4e8f884524ff53efd1eecf049eeb9\n",
            "  Stored in directory: /root/.cache/pip/wheels/6b/1b/ef/a43ff1a2f1736d5711faa1ba4c1f61be1131b8899e6a057811\n",
            "Successfully built AutoROM.accept-rom-license\n",
            "Installing collected packages: farama-notifications, nvidia-nvtx-cu12, nvidia-nvjitlink-cu12, nvidia-nccl-cu12, nvidia-curand-cu12, nvidia-cufft-cu12, nvidia-cuda-runtime-cu12, nvidia-cuda-nvrtc-cu12, nvidia-cuda-cupti-cu12, nvidia-cublas-cu12, gymnasium, ale-py, shimmy, nvidia-cusparse-cu12, nvidia-cudnn-cu12, AutoROM.accept-rom-license, autorom, nvidia-cusolver-cu12, stable-baselines3\n",
            "Successfully installed AutoROM.accept-rom-license-0.6.1 ale-py-0.8.1 autorom-0.6.1 farama-notifications-0.0.4 gymnasium-0.29.1 nvidia-cublas-cu12-12.1.3.1 nvidia-cuda-cupti-cu12-12.1.105 nvidia-cuda-nvrtc-cu12-12.1.105 nvidia-cuda-runtime-cu12-12.1.105 nvidia-cudnn-cu12-8.9.2.26 nvidia-cufft-cu12-11.0.2.54 nvidia-curand-cu12-10.3.2.106 nvidia-cusolver-cu12-11.4.5.107 nvidia-cusparse-cu12-12.1.0.106 nvidia-nccl-cu12-2.20.5 nvidia-nvjitlink-cu12-12.5.40 nvidia-nvtx-cu12-12.1.105 shimmy-1.3.0 stable-baselines3-2.4.0a1\n"
          ]
        }
      ]
    },
    {
      "cell_type": "code",
      "source": [
        "# import os\n",
        "# os.kill(os.getpid(), 9)"
      ],
      "metadata": {
        "id": "tNrU0OKnz6lC"
      },
      "execution_count": null,
      "outputs": []
    },
    {
      "cell_type": "code",
      "source": [
        "# # Virtual display\n",
        "# from pyvirtualdisplay import Display\n",
        "# virtual_display = Display(visible=0, size=(1400, 900))\n",
        "# virtual_display.start()\n",
        "\n",
        "# from IPython import display as ipythondisplay"
      ],
      "metadata": {
        "colab": {
          "base_uri": "https://localhost:8080/"
        },
        "id": "eFJmafAB0GPI",
        "outputId": "c38ee77a-91f1-4e2c-c604-62848cc9309b"
      },
      "execution_count": null,
      "outputs": [
        {
          "output_type": "execute_result",
          "data": {
            "text/plain": [
              "<pyvirtualdisplay.display.Display at 0x7d26a440be50>"
            ]
          },
          "metadata": {},
          "execution_count": 105
        }
      ]
    },
    {
      "cell_type": "markdown",
      "source": [
        "[Getting started example from sb3 library](https://stable-baselines3.readthedocs.io/en/master/guide/examples.html)"
      ],
      "metadata": {
        "id": "R6FX_wBmhp_h"
      }
    },
    {
      "cell_type": "code",
      "source": [
        "import gymnasium as gym\n",
        "import numpy as np\n",
        "import matplotlib.pyplot as plt\n",
        "\n",
        "import stable_baselines3\n",
        "print(f\"{stable_baselines3.__version__=}\")\n",
        "from stable_baselines3 import PPO\n",
        "from stable_baselines3.common.evaluation import evaluate_policy"
      ],
      "metadata": {
        "colab": {
          "base_uri": "https://localhost:8080/"
        },
        "id": "0EnW2m6VXfmo",
        "outputId": "0ae0412b-8963-4893-9478-e566f5609956"
      },
      "execution_count": null,
      "outputs": [
        {
          "output_type": "stream",
          "name": "stdout",
          "text": [
            "stable_baselines3.__version__='2.4.0a1'\n"
          ]
        },
        {
          "output_type": "stream",
          "name": "stderr",
          "text": [
            "/usr/local/lib/python3.10/dist-packages/ipykernel/ipkernel.py:283: DeprecationWarning: `should_run_async` will not call `transform_cell` automatically in the future. Please pass the result to `transformed_cell` argument and any exception that happen during thetransform in `preprocessing_exc_tuple` in IPython 7.17 and above.\n",
            "  and should_run_async(code)\n"
          ]
        }
      ]
    },
    {
      "cell_type": "code",
      "source": [
        "env = gym.make(\"CartPole-v1\", render_mode=\"rgb_array\")\n",
        "model = PPO('MlpPolicy', env, verbose=0)"
      ],
      "metadata": {
        "id": "BTSIN8IdKTeZ",
        "colab": {
          "base_uri": "https://localhost:8080/"
        },
        "outputId": "dc167be5-26f2-42b3-998c-b457c87f4bb8"
      },
      "execution_count": null,
      "outputs": [
        {
          "output_type": "stream",
          "name": "stderr",
          "text": [
            "/usr/local/lib/python3.10/dist-packages/ipykernel/ipkernel.py:283: DeprecationWarning: `should_run_async` will not call `transform_cell` automatically in the future. Please pass the result to `transformed_cell` argument and any exception that happen during thetransform in `preprocessing_exc_tuple` in IPython 7.17 and above.\n",
            "  and should_run_async(code)\n"
          ]
        }
      ]
    },
    {
      "cell_type": "code",
      "source": [
        "type(model.get_env())"
      ],
      "metadata": {
        "colab": {
          "base_uri": "https://localhost:8080/",
          "height": 240
        },
        "id": "lHB_56SyYZ8C",
        "outputId": "55ad7d2c-e6ba-4c7c-ae03-abbab5a95677"
      },
      "execution_count": null,
      "outputs": [
        {
          "output_type": "stream",
          "name": "stderr",
          "text": [
            "/usr/local/lib/python3.10/dist-packages/ipykernel/ipkernel.py:283: DeprecationWarning: `should_run_async` will not call `transform_cell` automatically in the future. Please pass the result to `transformed_cell` argument and any exception that happen during thetransform in `preprocessing_exc_tuple` in IPython 7.17 and above.\n",
            "  and should_run_async(code)\n"
          ]
        },
        {
          "output_type": "execute_result",
          "data": {
            "text/plain": [
              "stable_baselines3.common.vec_env.dummy_vec_env.DummyVecEnv"
            ],
            "text/html": [
              "<div style=\"max-width:800px; border: 1px solid var(--colab-border-color);\"><style>\n",
              "      pre.function-repr-contents {\n",
              "        overflow-x: auto;\n",
              "        padding: 8px 12px;\n",
              "        max-height: 500px;\n",
              "      }\n",
              "\n",
              "      pre.function-repr-contents.function-repr-contents-collapsed {\n",
              "        cursor: pointer;\n",
              "        max-height: 100px;\n",
              "      }\n",
              "    </style>\n",
              "    <pre style=\"white-space: initial; background:\n",
              "         var(--colab-secondary-surface-color); padding: 8px 12px;\n",
              "         border-bottom: 1px solid var(--colab-border-color);\"><b>stable_baselines3.common.vec_env.dummy_vec_env.DummyVecEnv</b><br/>def __init__(env_fns: List[Callable[[], gym.Env]])</pre><pre class=\"function-repr-contents function-repr-contents-collapsed\" style=\"\"><a class=\"filepath\" style=\"display:none\" href=\"#\">/usr/local/lib/python3.10/dist-packages/stable_baselines3/common/vec_env/dummy_vec_env.py</a>Creates a simple vectorized wrapper for multiple environments, calling each environment in sequence on the current\n",
              "Python process. This is useful for computationally simple environment such as ``Cartpole-v1``,\n",
              "as the overhead of multiprocess or multithread outweighs the environment computation time.\n",
              "This can also be used for RL methods that\n",
              "require a vectorized environment, but that you want a single environments to train with.\n",
              "\n",
              ":param env_fns: a list of functions\n",
              "    that return environments to vectorize\n",
              ":raises ValueError: If the same environment instance is passed as the output of two or more different env_fn.</pre>\n",
              "      <script>\n",
              "      if (google.colab.kernel.accessAllowed && google.colab.files && google.colab.files.view) {\n",
              "        for (const element of document.querySelectorAll('.filepath')) {\n",
              "          element.style.display = 'block'\n",
              "          element.onclick = (event) => {\n",
              "            event.preventDefault();\n",
              "            event.stopPropagation();\n",
              "            google.colab.files.view(element.textContent, 14);\n",
              "          };\n",
              "        }\n",
              "      }\n",
              "      for (const element of document.querySelectorAll('.function-repr-contents')) {\n",
              "        element.onclick = (event) => {\n",
              "          event.preventDefault();\n",
              "          event.stopPropagation();\n",
              "          element.classList.toggle('function-repr-contents-collapsed');\n",
              "        };\n",
              "      }\n",
              "      </script>\n",
              "      </div>"
            ]
          },
          "metadata": {},
          "execution_count": 11
        }
      ]
    },
    {
      "cell_type": "code",
      "source": [
        "def evaluate(model,num_episodes,deterministic=True):\n",
        "\n",
        "    vec_env = model.get_env()\n",
        "    all_episode_rewards = []\n",
        "\n",
        "    for i in range(num_episodes):\n",
        "        done = False\n",
        "        episode_rewards = []\n",
        "        obs = vec_env.reset()\n",
        "        while not done:\n",
        "            # _states are only useful when using LSTM policies\n",
        "            action, _states = model.predict(obs, deterministic=deterministic) # Returns : the model’s action and the next hidden state\n",
        "            # here, action, rewards and dones are arrays\n",
        "            # because we are using vectorized env\n",
        "            # also note that the step only returns a 4-tuple, as the env that is returned\n",
        "            # by model.get_env() is an sb3 vecenv that wraps the >v0.26 API\n",
        "            obs, reward, done, info = vec_env.step(action)\n",
        "            # append rewards per step\n",
        "            episode_rewards.append(reward)\n",
        "\n",
        "        # sum rewards for all steps of the episode\n",
        "        all_episode_rewards.append(sum(episode_rewards))\n",
        "\n",
        "    # mean and std statistics across all episodes\n",
        "    mean_rewards, std_rewards = np.mean(all_episode_rewards), np.std(all_episode_rewards)\n",
        "\n",
        "    return mean_rewards, std_rewards"
      ],
      "metadata": {
        "id": "U00iv9yNL2Xd",
        "colab": {
          "base_uri": "https://localhost:8080/"
        },
        "outputId": "73009933-b350-4c83-afb2-1a1cb03a5881"
      },
      "execution_count": null,
      "outputs": [
        {
          "output_type": "stream",
          "name": "stderr",
          "text": [
            "/usr/local/lib/python3.10/dist-packages/ipykernel/ipkernel.py:283: DeprecationWarning: `should_run_async` will not call `transform_cell` automatically in the future. Please pass the result to `transformed_cell` argument and any exception that happen during thetransform in `preprocessing_exc_tuple` in IPython 7.17 and above.\n",
            "  and should_run_async(code)\n"
          ]
        }
      ]
    },
    {
      "cell_type": "code",
      "source": [
        "mean_rewards, std_rewards = evaluate(model, num_episodes=100)\n",
        "print(f\"Mean reward: {mean_rewards:.2f} +/- {std_rewards:.2f}\")"
      ],
      "metadata": {
        "colab": {
          "base_uri": "https://localhost:8080/"
        },
        "id": "TNPcC7bobx3B",
        "outputId": "48256908-a66c-4aa7-db92-78a9728eb07e"
      },
      "execution_count": null,
      "outputs": [
        {
          "output_type": "stream",
          "name": "stdout",
          "text": [
            "Mean reward: 47.38 +/- 22.31\n"
          ]
        }
      ]
    },
    {
      "cell_type": "markdown",
      "source": [
        "Such evaluation comes also pre-shipped with sb3's **evaluate_policy**"
      ],
      "metadata": {
        "id": "D5Zry_tfeYAR"
      }
    },
    {
      "cell_type": "code",
      "source": [
        "# Use a separate environement for evaluation\n",
        "eval_env = gym.make(\"CartPole-v1\", render_mode=\"rgb_array\")\n",
        "# Random Agent, before training\n",
        "mean_reward, std_reward = evaluate_policy(model, eval_env, n_eval_episodes=100)\n",
        "print(f\"mean_reward:{mean_reward:.2f} +/- {std_reward:.2f}\")"
      ],
      "metadata": {
        "colab": {
          "base_uri": "https://localhost:8080/"
        },
        "id": "CX8EBCWTcKG3",
        "outputId": "33417499-8cdf-461e-c4a0-5d51317ed3fd"
      },
      "execution_count": null,
      "outputs": [
        {
          "output_type": "stream",
          "name": "stderr",
          "text": [
            "/usr/local/lib/python3.10/dist-packages/stable_baselines3/common/evaluation.py:67: UserWarning: Evaluation environment is not wrapped with a ``Monitor`` wrapper. This may result in reporting modified episode lengths and rewards, if other wrappers happen to modify these. Consider wrapping environment first with ``Monitor`` wrapper.\n",
            "  warnings.warn(\n"
          ]
        },
        {
          "output_type": "stream",
          "name": "stdout",
          "text": [
            "mean_reward:42.60 +/- 20.02\n"
          ]
        }
      ]
    },
    {
      "cell_type": "markdown",
      "source": [
        "**Train the agent** and evaluate again"
      ],
      "metadata": {
        "id": "z-gHlNdBfyIl"
      }
    },
    {
      "cell_type": "code",
      "source": [
        "# Train the agent for 10000 steps\n",
        "model.learn(total_timesteps=10_000)"
      ],
      "metadata": {
        "colab": {
          "base_uri": "https://localhost:8080/"
        },
        "id": "Ch1wvUoRem9D",
        "outputId": "05ca7a8f-de81-4f2d-a148-5f9c5d0bb4ac"
      },
      "execution_count": null,
      "outputs": [
        {
          "output_type": "execute_result",
          "data": {
            "text/plain": [
              "<stable_baselines3.ppo.ppo.PPO at 0x7df3da321840>"
            ]
          },
          "metadata": {},
          "execution_count": 40
        }
      ]
    },
    {
      "cell_type": "code",
      "source": [
        "# Trained Agent evaluation with `evaluate_policy`\n",
        "mean_reward, std_reward = evaluate_policy(model, eval_env, n_eval_episodes=100)\n",
        "print(f\"mean_reward:{mean_reward:.2f} +/- {std_reward:.2f}\")"
      ],
      "metadata": {
        "colab": {
          "base_uri": "https://localhost:8080/"
        },
        "id": "IXVTePFngDU9",
        "outputId": "156e24e4-aefd-4afe-b946-51297ba77451"
      },
      "execution_count": null,
      "outputs": [
        {
          "output_type": "stream",
          "name": "stderr",
          "text": [
            "/usr/local/lib/python3.10/dist-packages/stable_baselines3/common/evaluation.py:67: UserWarning: Evaluation environment is not wrapped with a ``Monitor`` wrapper. This may result in reporting modified episode lengths and rewards, if other wrappers happen to modify these. Consider wrapping environment first with ``Monitor`` wrapper.\n",
            "  warnings.warn(\n"
          ]
        },
        {
          "output_type": "stream",
          "name": "stdout",
          "text": [
            "mean_reward:415.51 +/- 102.75\n"
          ]
        }
      ]
    },
    {
      "cell_type": "code",
      "source": [
        "# Custom evaluation with `evaluate`\n",
        "mean_rewards, std_rewards = evaluate(model, num_episodes=100)\n",
        "print(f\"Mean reward: {mean_rewards:.2f} +/- {std_rewards:.2f}\")"
      ],
      "metadata": {
        "colab": {
          "base_uri": "https://localhost:8080/"
        },
        "id": "RKkqARTWh7vc",
        "outputId": "10dc22b7-5e01-49b9-f8c7-f8ca1e6c1fab"
      },
      "execution_count": null,
      "outputs": [
        {
          "output_type": "stream",
          "name": "stdout",
          "text": [
            "Mean reward: 428.80 +/- 98.17\n"
          ]
        }
      ]
    },
    {
      "cell_type": "markdown",
      "metadata": {
        "id": "xVm9QPNVwKXN"
      },
      "source": [
        "### Prepare video recording"
      ]
    },
    {
      "cell_type": "code",
      "execution_count": null,
      "metadata": {
        "id": "MPyfQxD5z26J",
        "colab": {
          "base_uri": "https://localhost:8080/"
        },
        "outputId": "d05dea90-2fa0-442c-bf23-a18fe652853c"
      },
      "outputs": [
        {
          "output_type": "stream",
          "name": "stderr",
          "text": [
            "/usr/local/lib/python3.10/dist-packages/ipykernel/ipkernel.py:283: DeprecationWarning: `should_run_async` will not call `transform_cell` automatically in the future. Please pass the result to `transformed_cell` argument and any exception that happen during thetransform in `preprocessing_exc_tuple` in IPython 7.17 and above.\n",
            "  and should_run_async(code)\n"
          ]
        }
      ],
      "source": [
        "# Set up fake display; otherwise rendering will fail\n",
        "import os\n",
        "os.system(\"Xvfb :1 -screen 0 1024x768x24 &\")\n",
        "os.environ['DISPLAY'] = ':1'"
      ]
    },
    {
      "cell_type": "code",
      "execution_count": null,
      "metadata": {
        "id": "SLzXxO8VMD6N",
        "colab": {
          "base_uri": "https://localhost:8080/"
        },
        "outputId": "1d624fda-98c6-466e-8688-3bfe62d6ac6a"
      },
      "outputs": [
        {
          "output_type": "stream",
          "name": "stderr",
          "text": [
            "/usr/local/lib/python3.10/dist-packages/ipykernel/ipkernel.py:283: DeprecationWarning: `should_run_async` will not call `transform_cell` automatically in the future. Please pass the result to `transformed_cell` argument and any exception that happen during thetransform in `preprocessing_exc_tuple` in IPython 7.17 and above.\n",
            "  and should_run_async(code)\n"
          ]
        }
      ],
      "source": [
        "import base64\n",
        "from pathlib import Path\n",
        "\n",
        "from IPython import display as ipythondisplay\n",
        "\n",
        "\n",
        "def show_videos(video_path=\"\", prefix=\"\"):\n",
        "    \"\"\"\n",
        "    Taken from https://github.com/eleurent/highway-env\n",
        "\n",
        "    :param video_path: (str) Path to the folder containing videos\n",
        "    :param prefix: (str) Filter the video, showing only the only starting with this prefix\n",
        "    \"\"\"\n",
        "    html = []\n",
        "    for mp4 in Path(video_path).glob(\"{}*.mp4\".format(prefix)):\n",
        "        video_b64 = base64.b64encode(mp4.read_bytes())\n",
        "        html.append(\n",
        "            \"\"\"<video alt=\"{}\" autoplay\n",
        "                    loop controls style=\"height: 400px;\">\n",
        "                    <source src=\"data:video/mp4;base64,{}\" type=\"video/mp4\" />\n",
        "                </video>\"\"\".format(\n",
        "                mp4, video_b64.decode(\"ascii\")\n",
        "            )\n",
        "        )\n",
        "    ipythondisplay.display(ipythondisplay.HTML(data=\"<br>\".join(html)))"
      ]
    },
    {
      "cell_type": "markdown",
      "metadata": {
        "id": "LTRNUfulOGaF"
      },
      "source": [
        "We will record a video using the [VecVideoRecorder](https://stable-baselines.readthedocs.io/en/master/guide/vec_envs.html#vecvideorecorder) wrapper, you will learn about those wrapper in the next notebook."
      ]
    },
    {
      "cell_type": "code",
      "execution_count": null,
      "metadata": {
        "id": "Trag9dQpOIhx",
        "colab": {
          "base_uri": "https://localhost:8080/"
        },
        "outputId": "75eefa88-c912-4cd1-d3ed-c449a2961959"
      },
      "outputs": [
        {
          "output_type": "stream",
          "name": "stderr",
          "text": [
            "/usr/local/lib/python3.10/dist-packages/ipykernel/ipkernel.py:283: DeprecationWarning: `should_run_async` will not call `transform_cell` automatically in the future. Please pass the result to `transformed_cell` argument and any exception that happen during thetransform in `preprocessing_exc_tuple` in IPython 7.17 and above.\n",
            "  and should_run_async(code)\n"
          ]
        }
      ],
      "source": [
        "from stable_baselines3.common.vec_env import VecVideoRecorder, DummyVecEnv\n",
        "\n",
        "\n",
        "def record_video(env_id, model, video_length=500, prefix=\"\", video_folder=\"videos/\"):\n",
        "    \"\"\"\n",
        "    :param env_id: (str)\n",
        "    :param model: (RL model)\n",
        "    :param video_length: (int)\n",
        "    :param prefix: (str)\n",
        "    :param video_folder: (str)\n",
        "    \"\"\"\n",
        "    eval_env = DummyVecEnv([lambda: gym.make(\"CartPole-v1\", render_mode=\"rgb_array\")])\n",
        "    # Start the video at step=0 and record 500 steps\n",
        "    eval_env = VecVideoRecorder(\n",
        "        eval_env,\n",
        "        video_folder=video_folder,\n",
        "        record_video_trigger=lambda step: step == 0,\n",
        "        video_length=video_length,\n",
        "        name_prefix=prefix,\n",
        "    )\n",
        "\n",
        "    obs = eval_env.reset()\n",
        "    for _ in range(video_length):\n",
        "        action, _ = model.predict(obs)\n",
        "        obs, _, _, _ = eval_env.step(action)\n",
        "\n",
        "    # Close the video recorder\n",
        "    eval_env.close()"
      ]
    },
    {
      "cell_type": "markdown",
      "metadata": {
        "id": "KOObbeu5MMlR"
      },
      "source": [
        "### Visualize trained agent\n",
        "\n"
      ]
    },
    {
      "cell_type": "code",
      "execution_count": null,
      "metadata": {
        "id": "iATu7AiyMQW2",
        "colab": {
          "base_uri": "https://localhost:8080/"
        },
        "outputId": "46e33478-f415-4aba-c849-4331a156db36"
      },
      "outputs": [
        {
          "output_type": "stream",
          "name": "stdout",
          "text": [
            "Saving video to /content/videos/ppo-cartpole-step-0-to-step-500.mp4\n",
            "Moviepy - Building video /content/videos/ppo-cartpole-step-0-to-step-500.mp4.\n",
            "Moviepy - Writing video /content/videos/ppo-cartpole-step-0-to-step-500.mp4\n",
            "\n"
          ]
        },
        {
          "output_type": "stream",
          "name": "stderr",
          "text": []
        },
        {
          "output_type": "stream",
          "name": "stdout",
          "text": [
            "Moviepy - Done !\n",
            "Moviepy - video ready /content/videos/ppo-cartpole-step-0-to-step-500.mp4\n"
          ]
        }
      ],
      "source": [
        "record_video(\"CartPole-v1\", model, video_length=500, prefix=\"ppo-cartpole\")"
      ]
    },
    {
      "cell_type": "code",
      "execution_count": null,
      "metadata": {
        "id": "-n4i-fW3NojZ",
        "colab": {
          "base_uri": "https://localhost:8080/",
          "height": 421
        },
        "outputId": "67a2573d-b51a-48ec-f230-fde87a163316"
      },
      "outputs": [
        {
          "output_type": "display_data",
          "data": {
            "text/plain": [
              "<IPython.core.display.HTML object>"
            ],
            "text/html": [
              "<video alt=\"videos/ppo-cartpole-step-0-to-step-500.mp4\" autoplay\n",
              "                    loop controls style=\"height: 400px;\">\n",
              "                    <source src=\"data:video/mp4;base64,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\" type=\"video/mp4\" />\n",
              "                </video>"
            ]
          },
          "metadata": {}
        }
      ],
      "source": [
        "show_videos(\"videos\", prefix=\"ppo\")"
      ]
    }
  ]
}