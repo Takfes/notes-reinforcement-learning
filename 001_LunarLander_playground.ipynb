{
  "nbformat": 4,
  "nbformat_minor": 0,
  "metadata": {
    "colab": {
      "provenance": [],
      "gpuType": "T4",
      "include_colab_link": true
    },
    "kernelspec": {
      "name": "python3",
      "display_name": "Python 3"
    },
    "accelerator": "GPU"
  },
  "cells": [
    {
      "cell_type": "markdown",
      "metadata": {
        "id": "view-in-github",
        "colab_type": "text"
      },
      "source": [
        "<a href=\"https://colab.research.google.com/github/Takfes/notes-reinforcement-learning/blob/main/001_LunarLander_playground.ipynb\" target=\"_parent\"><img src=\"https://colab.research.google.com/assets/colab-badge.svg\" alt=\"Open In Colab\"/></a>"
      ]
    },
    {
      "cell_type": "code",
      "source": [
        "%%bash\n",
        "sudo apt-get update\n",
        "apt install swig cmake\n",
        "pip install -r https://raw.githubusercontent.com/huggingface/deep-rl-class/main/notebooks/unit1/requirements-unit1.txt"
      ],
      "metadata": {
        "colab": {
          "base_uri": "https://localhost:8080/"
        },
        "collapsed": true,
        "id": "mtjMpI4xwgTI",
        "outputId": "0d7487eb-a0ac-4740-92c1-3f8601962d3b"
      },
      "execution_count": 1,
      "outputs": [
        {
          "output_type": "stream",
          "name": "stdout",
          "text": [
            "Hit:1 https://cloud.r-project.org/bin/linux/ubuntu jammy-cran40/ InRelease\n",
            "Hit:2 https://developer.download.nvidia.com/compute/cuda/repos/ubuntu2204/x86_64  InRelease\n",
            "Hit:3 http://security.ubuntu.com/ubuntu jammy-security InRelease\n",
            "Hit:4 http://archive.ubuntu.com/ubuntu jammy InRelease\n",
            "Hit:5 http://archive.ubuntu.com/ubuntu jammy-updates InRelease\n",
            "Hit:6 http://archive.ubuntu.com/ubuntu jammy-backports InRelease\n",
            "Hit:7 https://ppa.launchpadcontent.net/c2d4u.team/c2d4u4.0+/ubuntu jammy InRelease\n",
            "Hit:8 https://ppa.launchpadcontent.net/deadsnakes/ppa/ubuntu jammy InRelease\n",
            "Hit:9 https://ppa.launchpadcontent.net/graphics-drivers/ppa/ubuntu jammy InRelease\n",
            "Hit:10 https://ppa.launchpadcontent.net/ubuntugis/ppa/ubuntu jammy InRelease\n",
            "Reading package lists...\n",
            "Reading package lists...\n",
            "Building dependency tree...\n",
            "Reading state information...\n",
            "swig is already the newest version (4.0.2-1ubuntu1).\n",
            "cmake is already the newest version (3.22.1-1ubuntu1.22.04.2).\n",
            "0 upgraded, 0 newly installed, 0 to remove and 45 not upgraded.\n",
            "Requirement already satisfied: stable-baselines3==2.0.0a5 in /usr/local/lib/python3.10/dist-packages (from -r https://raw.githubusercontent.com/huggingface/deep-rl-class/main/notebooks/unit1/requirements-unit1.txt (line 1)) (2.0.0a5)\n",
            "Requirement already satisfied: swig in /usr/local/lib/python3.10/dist-packages (from -r https://raw.githubusercontent.com/huggingface/deep-rl-class/main/notebooks/unit1/requirements-unit1.txt (line 2)) (4.2.1)\n",
            "Requirement already satisfied: gymnasium[box2d] in /usr/local/lib/python3.10/dist-packages (from -r https://raw.githubusercontent.com/huggingface/deep-rl-class/main/notebooks/unit1/requirements-unit1.txt (line 3)) (0.28.1)\n",
            "Requirement already satisfied: huggingface_sb3 in /usr/local/lib/python3.10/dist-packages (from -r https://raw.githubusercontent.com/huggingface/deep-rl-class/main/notebooks/unit1/requirements-unit1.txt (line 4)) (3.0)\n",
            "Requirement already satisfied: numpy in /usr/local/lib/python3.10/dist-packages (from stable-baselines3==2.0.0a5->-r https://raw.githubusercontent.com/huggingface/deep-rl-class/main/notebooks/unit1/requirements-unit1.txt (line 1)) (1.25.2)\n",
            "Requirement already satisfied: torch>=1.11 in /usr/local/lib/python3.10/dist-packages (from stable-baselines3==2.0.0a5->-r https://raw.githubusercontent.com/huggingface/deep-rl-class/main/notebooks/unit1/requirements-unit1.txt (line 1)) (2.3.0+cu121)\n",
            "Requirement already satisfied: cloudpickle in /usr/local/lib/python3.10/dist-packages (from stable-baselines3==2.0.0a5->-r https://raw.githubusercontent.com/huggingface/deep-rl-class/main/notebooks/unit1/requirements-unit1.txt (line 1)) (2.2.1)\n",
            "Requirement already satisfied: pandas in /usr/local/lib/python3.10/dist-packages (from stable-baselines3==2.0.0a5->-r https://raw.githubusercontent.com/huggingface/deep-rl-class/main/notebooks/unit1/requirements-unit1.txt (line 1)) (2.0.3)\n",
            "Requirement already satisfied: matplotlib in /usr/local/lib/python3.10/dist-packages (from stable-baselines3==2.0.0a5->-r https://raw.githubusercontent.com/huggingface/deep-rl-class/main/notebooks/unit1/requirements-unit1.txt (line 1)) (3.7.1)\n",
            "Requirement already satisfied: jax-jumpy>=1.0.0 in /usr/local/lib/python3.10/dist-packages (from gymnasium[box2d]->-r https://raw.githubusercontent.com/huggingface/deep-rl-class/main/notebooks/unit1/requirements-unit1.txt (line 3)) (1.0.0)\n",
            "Requirement already satisfied: typing-extensions>=4.3.0 in /usr/local/lib/python3.10/dist-packages (from gymnasium[box2d]->-r https://raw.githubusercontent.com/huggingface/deep-rl-class/main/notebooks/unit1/requirements-unit1.txt (line 3)) (4.12.2)\n",
            "Requirement already satisfied: farama-notifications>=0.0.1 in /usr/local/lib/python3.10/dist-packages (from gymnasium[box2d]->-r https://raw.githubusercontent.com/huggingface/deep-rl-class/main/notebooks/unit1/requirements-unit1.txt (line 3)) (0.0.4)\n",
            "Requirement already satisfied: box2d-py==2.3.5 in /usr/local/lib/python3.10/dist-packages (from gymnasium[box2d]->-r https://raw.githubusercontent.com/huggingface/deep-rl-class/main/notebooks/unit1/requirements-unit1.txt (line 3)) (2.3.5)\n",
            "Requirement already satisfied: pygame==2.1.3 in /usr/local/lib/python3.10/dist-packages (from gymnasium[box2d]->-r https://raw.githubusercontent.com/huggingface/deep-rl-class/main/notebooks/unit1/requirements-unit1.txt (line 3)) (2.1.3)\n",
            "Requirement already satisfied: huggingface-hub~=0.8 in /usr/local/lib/python3.10/dist-packages (from huggingface_sb3->-r https://raw.githubusercontent.com/huggingface/deep-rl-class/main/notebooks/unit1/requirements-unit1.txt (line 4)) (0.23.4)\n",
            "Requirement already satisfied: pyyaml~=6.0 in /usr/local/lib/python3.10/dist-packages (from huggingface_sb3->-r https://raw.githubusercontent.com/huggingface/deep-rl-class/main/notebooks/unit1/requirements-unit1.txt (line 4)) (6.0.1)\n",
            "Requirement already satisfied: wasabi in /usr/local/lib/python3.10/dist-packages (from huggingface_sb3->-r https://raw.githubusercontent.com/huggingface/deep-rl-class/main/notebooks/unit1/requirements-unit1.txt (line 4)) (1.1.3)\n",
            "Requirement already satisfied: filelock in /usr/local/lib/python3.10/dist-packages (from huggingface-hub~=0.8->huggingface_sb3->-r https://raw.githubusercontent.com/huggingface/deep-rl-class/main/notebooks/unit1/requirements-unit1.txt (line 4)) (3.15.3)\n",
            "Requirement already satisfied: fsspec>=2023.5.0 in /usr/local/lib/python3.10/dist-packages (from huggingface-hub~=0.8->huggingface_sb3->-r https://raw.githubusercontent.com/huggingface/deep-rl-class/main/notebooks/unit1/requirements-unit1.txt (line 4)) (2023.6.0)\n",
            "Requirement already satisfied: packaging>=20.9 in /usr/local/lib/python3.10/dist-packages (from huggingface-hub~=0.8->huggingface_sb3->-r https://raw.githubusercontent.com/huggingface/deep-rl-class/main/notebooks/unit1/requirements-unit1.txt (line 4)) (24.1)\n",
            "Requirement already satisfied: requests in /usr/local/lib/python3.10/dist-packages (from huggingface-hub~=0.8->huggingface_sb3->-r https://raw.githubusercontent.com/huggingface/deep-rl-class/main/notebooks/unit1/requirements-unit1.txt (line 4)) (2.31.0)\n",
            "Requirement already satisfied: tqdm>=4.42.1 in /usr/local/lib/python3.10/dist-packages (from huggingface-hub~=0.8->huggingface_sb3->-r https://raw.githubusercontent.com/huggingface/deep-rl-class/main/notebooks/unit1/requirements-unit1.txt (line 4)) (4.66.4)\n",
            "Requirement already satisfied: sympy in /usr/local/lib/python3.10/dist-packages (from torch>=1.11->stable-baselines3==2.0.0a5->-r https://raw.githubusercontent.com/huggingface/deep-rl-class/main/notebooks/unit1/requirements-unit1.txt (line 1)) (1.12.1)\n",
            "Requirement already satisfied: networkx in /usr/local/lib/python3.10/dist-packages (from torch>=1.11->stable-baselines3==2.0.0a5->-r https://raw.githubusercontent.com/huggingface/deep-rl-class/main/notebooks/unit1/requirements-unit1.txt (line 1)) (3.3)\n",
            "Requirement already satisfied: jinja2 in /usr/local/lib/python3.10/dist-packages (from torch>=1.11->stable-baselines3==2.0.0a5->-r https://raw.githubusercontent.com/huggingface/deep-rl-class/main/notebooks/unit1/requirements-unit1.txt (line 1)) (3.1.4)\n",
            "Requirement already satisfied: nvidia-cuda-nvrtc-cu12==12.1.105 in /usr/local/lib/python3.10/dist-packages (from torch>=1.11->stable-baselines3==2.0.0a5->-r https://raw.githubusercontent.com/huggingface/deep-rl-class/main/notebooks/unit1/requirements-unit1.txt (line 1)) (12.1.105)\n",
            "Requirement already satisfied: nvidia-cuda-runtime-cu12==12.1.105 in /usr/local/lib/python3.10/dist-packages (from torch>=1.11->stable-baselines3==2.0.0a5->-r https://raw.githubusercontent.com/huggingface/deep-rl-class/main/notebooks/unit1/requirements-unit1.txt (line 1)) (12.1.105)\n",
            "Requirement already satisfied: nvidia-cuda-cupti-cu12==12.1.105 in /usr/local/lib/python3.10/dist-packages (from torch>=1.11->stable-baselines3==2.0.0a5->-r https://raw.githubusercontent.com/huggingface/deep-rl-class/main/notebooks/unit1/requirements-unit1.txt (line 1)) (12.1.105)\n",
            "Requirement already satisfied: nvidia-cudnn-cu12==8.9.2.26 in /usr/local/lib/python3.10/dist-packages (from torch>=1.11->stable-baselines3==2.0.0a5->-r https://raw.githubusercontent.com/huggingface/deep-rl-class/main/notebooks/unit1/requirements-unit1.txt (line 1)) (8.9.2.26)\n",
            "Requirement already satisfied: nvidia-cublas-cu12==12.1.3.1 in /usr/local/lib/python3.10/dist-packages (from torch>=1.11->stable-baselines3==2.0.0a5->-r https://raw.githubusercontent.com/huggingface/deep-rl-class/main/notebooks/unit1/requirements-unit1.txt (line 1)) (12.1.3.1)\n",
            "Requirement already satisfied: nvidia-cufft-cu12==11.0.2.54 in /usr/local/lib/python3.10/dist-packages (from torch>=1.11->stable-baselines3==2.0.0a5->-r https://raw.githubusercontent.com/huggingface/deep-rl-class/main/notebooks/unit1/requirements-unit1.txt (line 1)) (11.0.2.54)\n",
            "Requirement already satisfied: nvidia-curand-cu12==10.3.2.106 in /usr/local/lib/python3.10/dist-packages (from torch>=1.11->stable-baselines3==2.0.0a5->-r https://raw.githubusercontent.com/huggingface/deep-rl-class/main/notebooks/unit1/requirements-unit1.txt (line 1)) (10.3.2.106)\n",
            "Requirement already satisfied: nvidia-cusolver-cu12==11.4.5.107 in /usr/local/lib/python3.10/dist-packages (from torch>=1.11->stable-baselines3==2.0.0a5->-r https://raw.githubusercontent.com/huggingface/deep-rl-class/main/notebooks/unit1/requirements-unit1.txt (line 1)) (11.4.5.107)\n",
            "Requirement already satisfied: nvidia-cusparse-cu12==12.1.0.106 in /usr/local/lib/python3.10/dist-packages (from torch>=1.11->stable-baselines3==2.0.0a5->-r https://raw.githubusercontent.com/huggingface/deep-rl-class/main/notebooks/unit1/requirements-unit1.txt (line 1)) (12.1.0.106)\n",
            "Requirement already satisfied: nvidia-nccl-cu12==2.20.5 in /usr/local/lib/python3.10/dist-packages (from torch>=1.11->stable-baselines3==2.0.0a5->-r https://raw.githubusercontent.com/huggingface/deep-rl-class/main/notebooks/unit1/requirements-unit1.txt (line 1)) (2.20.5)\n",
            "Requirement already satisfied: nvidia-nvtx-cu12==12.1.105 in /usr/local/lib/python3.10/dist-packages (from torch>=1.11->stable-baselines3==2.0.0a5->-r https://raw.githubusercontent.com/huggingface/deep-rl-class/main/notebooks/unit1/requirements-unit1.txt (line 1)) (12.1.105)\n",
            "Requirement already satisfied: triton==2.3.0 in /usr/local/lib/python3.10/dist-packages (from torch>=1.11->stable-baselines3==2.0.0a5->-r https://raw.githubusercontent.com/huggingface/deep-rl-class/main/notebooks/unit1/requirements-unit1.txt (line 1)) (2.3.0)\n",
            "Requirement already satisfied: nvidia-nvjitlink-cu12 in /usr/local/lib/python3.10/dist-packages (from nvidia-cusolver-cu12==11.4.5.107->torch>=1.11->stable-baselines3==2.0.0a5->-r https://raw.githubusercontent.com/huggingface/deep-rl-class/main/notebooks/unit1/requirements-unit1.txt (line 1)) (12.5.40)\n",
            "Requirement already satisfied: contourpy>=1.0.1 in /usr/local/lib/python3.10/dist-packages (from matplotlib->stable-baselines3==2.0.0a5->-r https://raw.githubusercontent.com/huggingface/deep-rl-class/main/notebooks/unit1/requirements-unit1.txt (line 1)) (1.2.1)\n",
            "Requirement already satisfied: cycler>=0.10 in /usr/local/lib/python3.10/dist-packages (from matplotlib->stable-baselines3==2.0.0a5->-r https://raw.githubusercontent.com/huggingface/deep-rl-class/main/notebooks/unit1/requirements-unit1.txt (line 1)) (0.12.1)\n",
            "Requirement already satisfied: fonttools>=4.22.0 in /usr/local/lib/python3.10/dist-packages (from matplotlib->stable-baselines3==2.0.0a5->-r https://raw.githubusercontent.com/huggingface/deep-rl-class/main/notebooks/unit1/requirements-unit1.txt (line 1)) (4.53.0)\n",
            "Requirement already satisfied: kiwisolver>=1.0.1 in /usr/local/lib/python3.10/dist-packages (from matplotlib->stable-baselines3==2.0.0a5->-r https://raw.githubusercontent.com/huggingface/deep-rl-class/main/notebooks/unit1/requirements-unit1.txt (line 1)) (1.4.5)\n",
            "Requirement already satisfied: pillow>=6.2.0 in /usr/local/lib/python3.10/dist-packages (from matplotlib->stable-baselines3==2.0.0a5->-r https://raw.githubusercontent.com/huggingface/deep-rl-class/main/notebooks/unit1/requirements-unit1.txt (line 1)) (9.4.0)\n",
            "Requirement already satisfied: pyparsing>=2.3.1 in /usr/local/lib/python3.10/dist-packages (from matplotlib->stable-baselines3==2.0.0a5->-r https://raw.githubusercontent.com/huggingface/deep-rl-class/main/notebooks/unit1/requirements-unit1.txt (line 1)) (3.1.2)\n",
            "Requirement already satisfied: python-dateutil>=2.7 in /usr/local/lib/python3.10/dist-packages (from matplotlib->stable-baselines3==2.0.0a5->-r https://raw.githubusercontent.com/huggingface/deep-rl-class/main/notebooks/unit1/requirements-unit1.txt (line 1)) (2.8.2)\n",
            "Requirement already satisfied: pytz>=2020.1 in /usr/local/lib/python3.10/dist-packages (from pandas->stable-baselines3==2.0.0a5->-r https://raw.githubusercontent.com/huggingface/deep-rl-class/main/notebooks/unit1/requirements-unit1.txt (line 1)) (2023.4)\n",
            "Requirement already satisfied: tzdata>=2022.1 in /usr/local/lib/python3.10/dist-packages (from pandas->stable-baselines3==2.0.0a5->-r https://raw.githubusercontent.com/huggingface/deep-rl-class/main/notebooks/unit1/requirements-unit1.txt (line 1)) (2024.1)\n",
            "Requirement already satisfied: six>=1.5 in /usr/local/lib/python3.10/dist-packages (from python-dateutil>=2.7->matplotlib->stable-baselines3==2.0.0a5->-r https://raw.githubusercontent.com/huggingface/deep-rl-class/main/notebooks/unit1/requirements-unit1.txt (line 1)) (1.16.0)\n",
            "Requirement already satisfied: MarkupSafe>=2.0 in /usr/local/lib/python3.10/dist-packages (from jinja2->torch>=1.11->stable-baselines3==2.0.0a5->-r https://raw.githubusercontent.com/huggingface/deep-rl-class/main/notebooks/unit1/requirements-unit1.txt (line 1)) (2.1.5)\n",
            "Requirement already satisfied: charset-normalizer<4,>=2 in /usr/local/lib/python3.10/dist-packages (from requests->huggingface-hub~=0.8->huggingface_sb3->-r https://raw.githubusercontent.com/huggingface/deep-rl-class/main/notebooks/unit1/requirements-unit1.txt (line 4)) (3.3.2)\n",
            "Requirement already satisfied: idna<4,>=2.5 in /usr/local/lib/python3.10/dist-packages (from requests->huggingface-hub~=0.8->huggingface_sb3->-r https://raw.githubusercontent.com/huggingface/deep-rl-class/main/notebooks/unit1/requirements-unit1.txt (line 4)) (3.7)\n",
            "Requirement already satisfied: urllib3<3,>=1.21.1 in /usr/local/lib/python3.10/dist-packages (from requests->huggingface-hub~=0.8->huggingface_sb3->-r https://raw.githubusercontent.com/huggingface/deep-rl-class/main/notebooks/unit1/requirements-unit1.txt (line 4)) (2.0.7)\n",
            "Requirement already satisfied: certifi>=2017.4.17 in /usr/local/lib/python3.10/dist-packages (from requests->huggingface-hub~=0.8->huggingface_sb3->-r https://raw.githubusercontent.com/huggingface/deep-rl-class/main/notebooks/unit1/requirements-unit1.txt (line 4)) (2024.6.2)\n",
            "Requirement already satisfied: mpmath<1.4.0,>=1.1.0 in /usr/local/lib/python3.10/dist-packages (from sympy->torch>=1.11->stable-baselines3==2.0.0a5->-r https://raw.githubusercontent.com/huggingface/deep-rl-class/main/notebooks/unit1/requirements-unit1.txt (line 1)) (1.3.0)\n"
          ]
        },
        {
          "output_type": "stream",
          "name": "stderr",
          "text": [
            "\n",
            "WARNING: apt does not have a stable CLI interface. Use with caution in scripts.\n",
            "\n"
          ]
        }
      ]
    },
    {
      "cell_type": "code",
      "source": [
        "# %%bash\n",
        "# apt install python3-opengl\n",
        "# apt install ffmpeg\n",
        "# apt install xvfb\n",
        "# pip3 install pyvirtualdisplay"
      ],
      "metadata": {
        "id": "d92TONZz-dTT"
      },
      "execution_count": null,
      "outputs": []
    },
    {
      "cell_type": "code",
      "source": [
        "# import os\n",
        "# os.kill(os.getpid(), 9)"
      ],
      "metadata": {
        "id": "tNrU0OKnz6lC"
      },
      "execution_count": null,
      "outputs": []
    },
    {
      "cell_type": "code",
      "source": [
        "# # Virtual display\n",
        "# from pyvirtualdisplay import Display\n",
        "# virtual_display = Display(visible=0, size=(1400, 900))\n",
        "# virtual_display.start()"
      ],
      "metadata": {
        "colab": {
          "base_uri": "https://localhost:8080/"
        },
        "id": "eFJmafAB0GPI",
        "outputId": "2967a0c6-d962-4789-b64c-3c304050742d"
      },
      "execution_count": 49,
      "outputs": [
        {
          "output_type": "execute_result",
          "data": {
            "text/plain": [
              "<pyvirtualdisplay.display.Display at 0x78a7c70edab0>"
            ]
          },
          "metadata": {},
          "execution_count": 49
        }
      ]
    },
    {
      "cell_type": "code",
      "source": [
        "import gymnasium as gym"
      ],
      "metadata": {
        "id": "TXFMDyAFt9pB"
      },
      "execution_count": 2,
      "outputs": []
    },
    {
      "cell_type": "code",
      "source": [
        "env = gym.make(\"LunarLander-v2\", render_mode='rgb_array')\n",
        "print(\"Observation space : {},\\nAction space : {}\".format(env.observation_space,env.action_space))\n",
        "print(\"Upper Bound for Env Observation\", env.observation_space.high)\n",
        "print(\"Lower Bound for Env Observation\", env.observation_space.low)"
      ],
      "metadata": {
        "colab": {
          "base_uri": "https://localhost:8080/"
        },
        "id": "tKXm34ZKuXcK",
        "outputId": "b4093592-dbda-4a29-d251-2e3b1a12e6f4"
      },
      "execution_count": 17,
      "outputs": [
        {
          "output_type": "stream",
          "name": "stdout",
          "text": [
            "Observation space : Box([-90.        -90.         -5.         -5.         -3.1415927  -5.\n",
            "  -0.         -0.       ], [90.        90.         5.         5.         3.1415927  5.\n",
            "  1.         1.       ], (8,), float32),\n",
            "Action space : Discrete(4)\n",
            "Upper Bound for Env Observation [90.        90.         5.         5.         3.1415927  5.\n",
            "  1.         1.       ]\n",
            "Lower Bound for Env Observation [-90.        -90.         -5.         -5.         -3.1415927  -5.\n",
            "  -0.         -0.       ]\n"
          ]
        }
      ]
    },
    {
      "cell_type": "code",
      "source": [
        "# reset the environment and see the initial observation\n",
        "observation, info = env.reset()\n",
        "print(\"The initial observation is {},\\nInfo {}\".format(observation, info))"
      ],
      "metadata": {
        "colab": {
          "base_uri": "https://localhost:8080/"
        },
        "id": "swXxSFM1y-Mr",
        "outputId": "3433aea4-6f42-4bca-a3da-049f5afabe39"
      },
      "execution_count": 18,
      "outputs": [
        {
          "output_type": "stream",
          "name": "stdout",
          "text": [
            "The initial observation is [ 0.00249262  1.4174383   0.25245255  0.2896982  -0.00288146 -0.05718416\n",
            "  0.          0.        ],\n",
            "Info {}\n"
          ]
        }
      ]
    },
    {
      "cell_type": "code",
      "source": [
        "# Sample a random action from the entire action space\n",
        "random_action = env.action_space.sample()\n",
        "random_action"
      ],
      "metadata": {
        "colab": {
          "base_uri": "https://localhost:8080/"
        },
        "id": "-4GiyGsG0-zv",
        "outputId": "9260d84f-1aa8-4fc2-b7d3-23cddced86f0"
      },
      "execution_count": 19,
      "outputs": [
        {
          "output_type": "execute_result",
          "data": {
            "text/plain": [
              "2"
            ]
          },
          "metadata": {},
          "execution_count": 19
        }
      ]
    },
    {
      "cell_type": "code",
      "source": [
        "# Take the action and get the new observation space\n",
        "# new_obs, reward, done, info = env.step(random_action)\n",
        "new_obs, reward, terminated, truncated, info = env.step(random_action)\n",
        "print(\"New observation is {}\".format(new_obs))\n",
        "print(\"Reward is {}\".format(reward))\n",
        "print(\"Terminated is {}\".format(terminated))\n",
        "print(\"Truncated is {}\".format(truncated))\n",
        "print(\"Info is {}\".format(info))"
      ],
      "metadata": {
        "colab": {
          "base_uri": "https://localhost:8080/"
        },
        "id": "PIG8POne1FN7",
        "outputId": "152243ce-d84f-4db4-ed16-df0651dd6376"
      },
      "execution_count": 20,
      "outputs": [
        {
          "output_type": "stream",
          "name": "stdout",
          "text": [
            "New observation is [ 0.00502844  1.424259    0.25624263  0.30313417 -0.00550652 -0.0525054\n",
            "  0.          0.        ]\n",
            "Reward is -2.5116800872310305\n",
            "Terminated is False\n",
            "Truncated is False\n",
            "Info is {}\n"
          ]
        }
      ]
    },
    {
      "cell_type": "code",
      "source": [
        "env.render()"
      ],
      "metadata": {
        "id": "urmcVil-Bc5V"
      },
      "execution_count": null,
      "outputs": []
    },
    {
      "cell_type": "code",
      "source": [
        "# Number of steps you run the agent for\n",
        "num_steps = 1000\n",
        "observation, info = env.reset()\n",
        "\n",
        "for step in range(num_steps):\n",
        "    # take random action, but you can also do something more intelligent\n",
        "    action = env.action_space.sample()\n",
        "    # action = 0\n",
        "    # apply the action\n",
        "    obs, reward, terminated, truncated, info = env.step(action)\n",
        "    # If the epsiode is up, then start another one\n",
        "    if terminated:\n",
        "        env.reset()\n",
        "# Close the env\n",
        "env.close()"
      ],
      "metadata": {
        "id": "jbb4jZO3AE7p"
      },
      "execution_count": 51,
      "outputs": []
    },
    {
      "cell_type": "code",
      "source": [
        "env.render()"
      ],
      "metadata": {
        "colab": {
          "base_uri": "https://localhost:8080/",
          "height": 440
        },
        "id": "BWbCuowFANmg",
        "outputId": "a4fa2c02-55b2-4954-95a1-caee035e21ee"
      },
      "execution_count": 52,
      "outputs": [
        {
          "output_type": "execute_result",
          "data": {
            "text/plain": [
              "array([[[  0,   0,   0],\n",
              "        [  0,   0,   0],\n",
              "        [  0,   0,   0],\n",
              "        ...,\n",
              "        [  0,   0,   0],\n",
              "        [  0,   0,   0],\n",
              "        [  0,   0,   0]],\n",
              "\n",
              "       [[  0,   0,   0],\n",
              "        [  0,   0,   0],\n",
              "        [  0,   0,   0],\n",
              "        ...,\n",
              "        [  0,   0,   0],\n",
              "        [  0,   0,   0],\n",
              "        [  0,   0,   0]],\n",
              "\n",
              "       [[  0,   0,   0],\n",
              "        [  0,   0,   0],\n",
              "        [  0,   0,   0],\n",
              "        ...,\n",
              "        [  0,   0,   0],\n",
              "        [  0,   0,   0],\n",
              "        [  0,   0,   0]],\n",
              "\n",
              "       ...,\n",
              "\n",
              "       [[255, 255, 255],\n",
              "        [255, 255, 255],\n",
              "        [255, 255, 255],\n",
              "        ...,\n",
              "        [255, 255, 255],\n",
              "        [255, 255, 255],\n",
              "        [255, 255, 255]],\n",
              "\n",
              "       [[255, 255, 255],\n",
              "        [255, 255, 255],\n",
              "        [255, 255, 255],\n",
              "        ...,\n",
              "        [255, 255, 255],\n",
              "        [255, 255, 255],\n",
              "        [255, 255, 255]],\n",
              "\n",
              "       [[255, 255, 255],\n",
              "        [255, 255, 255],\n",
              "        [255, 255, 255],\n",
              "        ...,\n",
              "        [255, 255, 255],\n",
              "        [255, 255, 255],\n",
              "        [255, 255, 255]]], dtype=uint8)"
            ],
            "text/html": [
              "<style>\n",
              "      .ndarray_repr .ndarray_raw_data {\n",
              "        display: none;\n",
              "      }\n",
              "      .ndarray_repr.show_array .ndarray_raw_data {\n",
              "        display: block;\n",
              "      }\n",
              "      .ndarray_repr.show_array .ndarray_image_preview {\n",
              "        display: none;\n",
              "      }\n",
              "      </style>\n",
              "      <div id=\"id-610d7d2a-8613-4aad-bc21-e86d2bc7ce68\" class=\"ndarray_repr\"><pre>ndarray (400, 600, 3) <button style=\"padding: 0 2px;\">show data</button></pre><img src=\"data:image/png;base64,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\" class=\"ndarray_image_preview\" /><pre class=\"ndarray_raw_data\">array([[[  0,   0,   0],\n",
              "        [  0,   0,   0],\n",
              "        [  0,   0,   0],\n",
              "        ...,\n",
              "        [  0,   0,   0],\n",
              "        [  0,   0,   0],\n",
              "        [  0,   0,   0]],\n",
              "\n",
              "       [[  0,   0,   0],\n",
              "        [  0,   0,   0],\n",
              "        [  0,   0,   0],\n",
              "        ...,\n",
              "        [  0,   0,   0],\n",
              "        [  0,   0,   0],\n",
              "        [  0,   0,   0]],\n",
              "\n",
              "       [[  0,   0,   0],\n",
              "        [  0,   0,   0],\n",
              "        [  0,   0,   0],\n",
              "        ...,\n",
              "        [  0,   0,   0],\n",
              "        [  0,   0,   0],\n",
              "        [  0,   0,   0]],\n",
              "\n",
              "       ...,\n",
              "\n",
              "       [[255, 255, 255],\n",
              "        [255, 255, 255],\n",
              "        [255, 255, 255],\n",
              "        ...,\n",
              "        [255, 255, 255],\n",
              "        [255, 255, 255],\n",
              "        [255, 255, 255]],\n",
              "\n",
              "       [[255, 255, 255],\n",
              "        [255, 255, 255],\n",
              "        [255, 255, 255],\n",
              "        ...,\n",
              "        [255, 255, 255],\n",
              "        [255, 255, 255],\n",
              "        [255, 255, 255]],\n",
              "\n",
              "       [[255, 255, 255],\n",
              "        [255, 255, 255],\n",
              "        [255, 255, 255],\n",
              "        ...,\n",
              "        [255, 255, 255],\n",
              "        [255, 255, 255],\n",
              "        [255, 255, 255]]], dtype=uint8)</pre></div><script>\n",
              "      (() => {\n",
              "      const titles = ['show data', 'hide data'];\n",
              "      let index = 0\n",
              "      document.querySelector('#id-610d7d2a-8613-4aad-bc21-e86d2bc7ce68 button').onclick = (e) => {\n",
              "        document.querySelector('#id-610d7d2a-8613-4aad-bc21-e86d2bc7ce68').classList.toggle('show_array');\n",
              "        index = (++index) % 2;\n",
              "        document.querySelector('#id-610d7d2a-8613-4aad-bc21-e86d2bc7ce68 button').textContent = titles[index];\n",
              "        e.preventDefault();\n",
              "        e.stopPropagation();\n",
              "      }\n",
              "      })();\n",
              "    </script>"
            ]
          },
          "metadata": {},
          "execution_count": 52
        }
      ]
    }
  ]
}